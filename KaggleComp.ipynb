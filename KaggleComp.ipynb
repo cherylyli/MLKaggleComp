{
 "cells": [
  {
   "cell_type": "markdown",
   "metadata": {},
   "source": [
    "# Load data"
   ]
  },
  {
   "cell_type": "code",
   "execution_count": 1,
   "metadata": {
    "collapsed": true
   },
   "outputs": [],
   "source": [
    "import numpy as np \n",
    "import sklearn \n",
    "import scipy.misc\n",
    "import matplotlib.pyplot as plt"
   ]
  },
  {
   "cell_type": "code",
   "execution_count": 3,
   "metadata": {},
   "outputs": [],
   "source": [
    "# loading data\n",
    "x_train = np.loadtxt(\"data/train_x.csv\", delimiter=\",\", dtype='uint8')\n",
    "y_train = np.loadtxt(\"data/train_y.csv\", delimiter=\",\", dtype='uint8')\n",
    "x_test = np.loadtxt(\"data/test_x.csv\", delimiter=\",\", dtype='uint8')\n",
    "\n",
    "# x_train = x.reshape(-1, 64, 64)\n",
    "# y_train = y.reshape(-1, 1) \n",
    "# x_test = x.reshape(-1, 64, 64)"
   ]
  },
  {
   "cell_type": "code",
   "execution_count": 4,
   "metadata": {},
   "outputs": [
    {
     "name": "stdout",
     "output_type": "stream",
     "text": [
      "50000 50000\n",
      "50000\n"
     ]
    }
   ],
   "source": [
    "print(len(x_train), len(y_train))\n",
    "y_train_one_hot = [[0 for i in range(10)] for i in range(len(y_train))]\n",
    "for i in range(len(y_train)):\n",
    "    y_train_one_hot[i][int(y_train[i])] = 1\n",
    "   \n",
    "print(len(y_train_one_hot))"
   ]
  },
  {
   "cell_type": "code",
   "execution_count": 5,
   "metadata": {},
   "outputs": [
    {
     "name": "stdout",
     "output_type": "stream",
     "text": [
      "(50000, 4096)\n"
     ]
    }
   ],
   "source": [
    "print(x_train.shape)"
   ]
  },
  {
   "cell_type": "code",
   "execution_count": 10,
   "metadata": {},
   "outputs": [
    {
     "data": {
      "image/png": "[encoded data removed]",
      "text/plain": [
       "<matplotlib.figure.Figure at 0x181c9409e8>"
      ]
     },
     "metadata": {},
     "output_type": "display_data"
    },
    {
     "name": "stdout",
     "output_type": "stream",
     "text": [
      "[ 4.]\n"
     ]
    }
   ],
   "source": [
    "def show_img(img):\n",
    "    plt.close()\n",
    "    plt.imshow(np.uint8(img))\n",
    "    plt.show()\n",
    "\n",
    "x_train_reshaped = x_train.reshape(-1, 64, 64)\n",
    "y_train_reshaped = y_train.reshape(-1, 1) \n",
    "x_test_reshaped = x_test.reshape(-1, 64, 64)\n",
    "# scipy.misc.imshow(x_train_reshaped[0])\n",
    "show_img(x_train_reshaped[0])\n",
    "print(y_train_reshaped[0])"
   ]
  },
  {
   "cell_type": "markdown",
   "metadata": {},
   "source": [
    "## Split training data into train / valid sets"
   ]
  },
  {
   "cell_type": "code",
   "execution_count": 6,
   "metadata": {
    "collapsed": true
   },
   "outputs": [],
   "source": [
    "from sklearn.model_selection import train_test_split\n",
    "x_train_s, x_valid_s, y_train_s, y_valid_s = train_test_split(x_train, y_train_one_hot, train_size=0.8, test_size=0.2)\n",
    "data = {\n",
    "    \"x_train\": x_train_s,\n",
    "    \"x_valid\": x_valid_s,\n",
    "    \"y_train\": y_train_s,\n",
    "    \"y_valid\": y_valid_s\n",
    "}"
   ]
  },
  {
   "cell_type": "code",
   "execution_count": 10,
   "metadata": {},
   "outputs": [
    {
     "name": "stdout",
     "output_type": "stream",
     "text": [
      "(40000, 4096)\n"
     ]
    }
   ],
   "source": [
    "# data[\"y_train\"] = data[\"y_train\"].astype(int)\n",
    "# data[\"y_valid\"] = data[\"y_valid\"].astype(int)\n",
    "# data[\"y_train\"] = data[\"y_train\"].T\n",
    "# data[\"y_valid\"] = data[\"y_valid\"].T\n",
    "print(data[\"x_train\"].shape)"
   ]
  },
  {
   "cell_type": "markdown",
   "metadata": {},
   "source": [
    "# Baseline Linear Classifier: Linear SVM"
   ]
  },
  {
   "cell_type": "code",
   "execution_count": 4,
   "metadata": {
    "collapsed": true
   },
   "outputs": [],
   "source": [
    "from sklearn import metrics\n",
    "from sklearn.svm import LinearSVC"
   ]
  },
  {
   "cell_type": "code",
   "execution_count": 18,
   "metadata": {},
   "outputs": [
    {
     "data": {
      "text/plain": [
       "(40000, 4096)"
      ]
     },
     "execution_count": 18,
     "metadata": {},
     "output_type": "execute_result"
    }
   ],
   "source": []
  },
  {
   "cell_type": "code",
   "execution_count": 10,
   "metadata": {},
   "outputs": [
    {
     "name": "stdout",
     "output_type": "stream",
     "text": [
      "0.0988\n"
     ]
    }
   ],
   "source": [
    "def baseline_linear_svm(data):\n",
    "    \"\"\"\n",
    "    Using out-of-the-box linear SVM to classify data\n",
    "    \"\"\"\n",
    "    clf = LinearSVC()\n",
    "    \n",
    "    y_pred = clf.fit(data[\"x_train\"], data[\"y_train\"]).predict(data[\"x_valid\"])\n",
    "    print(y_pred)\n",
    "    return metrics.accuracy_score(data[\"y_valid\"], y_pred, average=\"macro\"), y_pred\n",
    "    \n",
    "# score, y_pred = baseline_linear_svm(data)\n",
    "# print(score)"
   ]
  },
  {
   "cell_type": "markdown",
   "metadata": {
    "collapsed": true
   },
   "source": [
    "# Neural Network"
   ]
  },
  {
   "cell_type": "code",
   "execution_count": 118,
   "metadata": {
    "collapsed": true
   },
   "outputs": [],
   "source": [
    "def sigmoid(x):\n",
    "    \"\"\"\n",
    "    sigmoid function\n",
    "    \"\"\"\n",
    "    return 1 / (1 + np.exp(-x))\n",
    "\n",
    "def d_sigmoid(x):\n",
    "    \"\"\"\n",
    "    derivative of sigmoid\n",
    "    \"\"\"\n",
    "    return x * (1. - x)\n",
    "\n",
    "def tanh(x):\n",
    "    \"\"\"\n",
    "    tanh function\n",
    "    \"\"\"\n",
    "    return np.tanh(x)\n",
    "\n",
    "def d_tanh(x):\n",
    "    \"\"\"\n",
    "    derivative of tanh\n",
    "    \"\"\"\n",
    "    return 1 - x*x\n",
    "\n",
    "def relu(x):\n",
    "    \"\"\"\n",
    "    relu function\n",
    "    \"\"\"\n",
    "    return np.log(1 + np.exp(x))\n",
    "\n",
    "def d_relu(x):\n",
    "    \"\"\"\n",
    "    derivative of relu\n",
    "    \"\"\"\n",
    "    return np.exp(x) / 1. + np.exp(x)\n",
    "\n",
    "def softmax(x):\n",
    "    \"\"\"\n",
    "    softmax classifier\n",
    "    40k x 10\n",
    "    \"\"\"\n",
    "    e = np.exp(x)\n",
    "    e_sum = np.sum(e, axis=1)\n",
    "    y = []\n",
    "    for i in range(len(e)):\n",
    "        y.append(e[i]/e_sum[i])\n",
    "    return np.array(y)\n",
    "\n",
    "def d_softmax(output, y):\n",
    "    \"\"\"\n",
    "    d loss / d output\n",
    "    \"\"\"\n",
    "    return output - y\n",
    "\n",
    "def log_loss(output):\n",
    "    loss = []\n",
    "    for i in range(len(output)):\n",
    "        log_loss_sum = []\n",
    "        for j in range(10):\n",
    "            log_loss_sum.append(np.log(output[i][j]))\n",
    "        loss.append(log_loss_sum)\n",
    "    return np.array(loss)\n",
    "        \n"
   ]
  },
  {
   "cell_type": "code",
   "execution_count": 48,
   "metadata": {},
   "outputs": [
    {
     "name": "stdout",
     "output_type": "stream",
     "text": [
      "(4096, 200) (1, 200) (200, 10) (1, 10)\n"
     ]
    }
   ],
   "source": [
    "# # set number of hidden nodes\n",
    "# num_hidden_nodes = 200\n",
    "# num_input = 40000\n",
    "# input_size = 4096\n",
    "\n",
    "# # initialize random wh, bh, wo, and bo\n",
    "# wh = np.random.uniform(size=(input_size,num_hidden_nodes))\n",
    "# bh = np.random.uniform(size=(1, num_hidden_nodes))\n",
    "# wo = np.random.uniform(size=(num_hidden_nodes, 10))\n",
    "# bo = np.random.uniform(size=(1, 10))\n",
    "\n",
    "# print(wh.shape, bh.shape, wo.shape, bo.shape)"
   ]
  },
  {
   "cell_type": "code",
   "execution_count": 111,
   "metadata": {},
   "outputs": [
    {
     "name": "stdout",
     "output_type": "stream",
     "text": [
      "(40000, 200) (40000, 200) (40000, 10) (40000, 10) (40000, 10)\n",
      "[[ -0.00000000e+00  -4.87467870e-06  -0.00000000e+00 ...,  -0.00000000e+00\n",
      "   -0.00000000e+00  -0.00000000e+00]\n",
      " [ -0.00000000e+00  -0.00000000e+00  -0.00000000e+00 ...,  -0.00000000e+00\n",
      "   -0.00000000e+00  -0.00000000e+00]\n",
      " [ -0.00000000e+00  -0.00000000e+00  -0.00000000e+00 ...,  -2.62087981e+01\n",
      "   -0.00000000e+00  -0.00000000e+00]\n",
      " ..., \n",
      " [ -4.29758438e+02  -0.00000000e+00  -0.00000000e+00 ...,  -0.00000000e+00\n",
      "   -0.00000000e+00  -0.00000000e+00]\n",
      " [ -0.00000000e+00  -0.00000000e+00  -0.00000000e+00 ...,  -0.00000000e+00\n",
      "   -0.00000000e+00  -0.00000000e+00]\n",
      " [ -4.29758438e+02  -0.00000000e+00  -0.00000000e+00 ...,  -0.00000000e+00\n",
      "   -0.00000000e+00  -0.00000000e+00]]\n"
     ]
    }
   ],
   "source": [
    "# hidden_layer_input = np.dot(data[\"x_train\"], wh) + bh\n",
    "# hidden_layer_output = sigmoid(hidden_layer_input)\n",
    "# output_layer_input = np.dot(hidden_layer_output, wo) + bo\n",
    "# output_layer_output = softmax(output_layer_input)\n",
    "# error_output = log_loss(output_layer_output, data[\"y_train\"])\n",
    "\n",
    "# print(hidden_layer_input.shape, hidden_layer_output.shape, output_layer_input.shape, output_layer_output.shape, error_output.shape)\n",
    "# print(error_output)"
   ]
  },
  {
   "cell_type": "code",
   "execution_count": 77,
   "metadata": {},
   "outputs": [
    {
     "name": "stdout",
     "output_type": "stream",
     "text": [
      "1.0\n",
      "[[  7.22104758e-01   1.21599898e-02   3.64926004e-05   5.16692207e-07\n",
      "    2.34719011e-01   3.01892863e-02   6.58329379e-04   2.41881067e-11\n",
      "    3.21738840e-05   9.94423466e-05]\n",
      " [  7.22104758e-01   1.21599898e-02   3.64926004e-05   5.16692207e-07\n",
      "    2.34719011e-01   3.01892863e-02   6.58329379e-04   2.41881067e-11\n",
      "    3.21738840e-05   9.94423466e-05]\n",
      " [  7.22104758e-01   1.21599898e-02   3.64926004e-05   5.16692207e-07\n",
      "    2.34719011e-01   3.01892863e-02   6.58329379e-04   2.41881067e-11\n",
      "    3.21738840e-05   9.94423466e-05]\n",
      " [  7.22104758e-01   1.21599898e-02   3.64926004e-05   5.16692207e-07\n",
      "    2.34719011e-01   3.01892863e-02   6.58329379e-04   2.41881067e-11\n",
      "    3.21738840e-05   9.94423466e-05]\n",
      " [  7.22104758e-01   1.21599898e-02   3.64926004e-05   5.16692207e-07\n",
      "    2.34719011e-01   3.01892863e-02   6.58329379e-04   2.41881067e-11\n",
      "    3.21738840e-05   9.94423466e-05]\n",
      " [  7.22104758e-01   1.21599898e-02   3.64926004e-05   5.16692207e-07\n",
      "    2.34719011e-01   3.01892863e-02   6.58329379e-04   2.41881067e-11\n",
      "    3.21738840e-05   9.94423466e-05]\n",
      " [  7.22104758e-01   1.21599898e-02   3.64926004e-05   5.16692207e-07\n",
      "    2.34719011e-01   3.01892863e-02   6.58329379e-04   2.41881067e-11\n",
      "    3.21738840e-05   9.94423466e-05]\n",
      " [  7.22104758e-01   1.21599898e-02   3.64926004e-05   5.16692207e-07\n",
      "    2.34719011e-01   3.01892863e-02   6.58329379e-04   2.41881067e-11\n",
      "    3.21738840e-05   9.94423466e-05]\n",
      " [  7.22104758e-01   1.21599898e-02   3.64926004e-05   5.16692207e-07\n",
      "    2.34719011e-01   3.01892863e-02   6.58329379e-04   2.41881067e-11\n",
      "    3.21738840e-05   9.94423466e-05]\n",
      " [  7.22104758e-01   1.21599898e-02   3.64926004e-05   5.16692207e-07\n",
      "    2.34719011e-01   3.01892863e-02   6.58329379e-04   2.41881067e-11\n",
      "    3.21738840e-05   9.94423466e-05]]\n",
      "[[0, 1, 0, 0, 0, 0, 0, 0, 0, 0], [0, 0, 0, 1, 0, 0, 0, 0, 0, 0], [0, 0, 0, 0, 0, 0, 0, 1, 0, 0], [0, 0, 1, 0, 0, 0, 0, 0, 0, 0], [0, 0, 1, 0, 0, 0, 0, 0, 0, 0], [0, 0, 0, 0, 0, 0, 1, 0, 0, 0], [0, 0, 1, 0, 0, 0, 0, 0, 0, 0], [0, 0, 0, 0, 0, 0, 1, 0, 0, 0], [0, 0, 0, 0, 0, 0, 0, 0, 0, 1], [0, 0, 0, 0, 0, 0, 0, 0, 0, 1]]\n"
     ]
    }
   ],
   "source": [
    "print(np.sum(output_layer_output[0]))\n",
    "print(output_layer_output[:10])\n",
    "print(data[\"y_train\"][:10])\n",
    "# print(data[\"y_train\"][:10])"
   ]
  },
  {
   "cell_type": "code",
   "execution_count": 113,
   "metadata": {},
   "outputs": [],
   "source": [
    "learning_rate = -0.01\n",
    "\n",
    "# d_loss_d_output = d_softmax(output_layer_output, data[\"y_train\"])\n",
    "# d_loss_d_wo = np.dot(d_loss_d_output.T,  hidden_layer_output)\n",
    "\n",
    "# d_loss_d_hidden_output = np.dot(wo, d_loss_d_output.T)\n",
    "\n",
    "# print(d_loss_d_output.shape, d_loss_d_wo.shape, d_loss_d_hidden_output.shape)\n",
    "\n",
    "\n",
    "# slope_output_layer = d_softmax(output_layer_output, data[\"y_train\"])\n",
    "# slope_hidden_layer = d_sigmoid(hidden_layer_output)\n",
    "# d_output =  slope_output_layer * error_output * learning_rate\n",
    "\n",
    "# error_hidden = np.dot(d_output, wo.T)\n",
    "# d_hidden = error_hidden * slope_hidden_layer\n",
    "\n",
    "# wo = wo + np.dot(hidden_layer_output.T, d_output) * learning_rate\n",
    "# wh = wh + np.dot(data[\"x_train\"].T, d_hidden) * learning_rate\n",
    "# bo = bo + np.sum(d_output, axis=0) * learning_rate\n",
    "# bh = bh + np.sum(d_hidden, axis=0) * learning_rate"
   ]
  },
  {
   "cell_type": "code",
   "execution_count": null,
   "metadata": {
    "collapsed": true
   },
   "outputs": [],
   "source": [
    "class Layer:\n",
    "    def __init__(self, input_rows, input_cols, learning_rate=0.01, num_nodes=200, activation_func=\"sigmoid\"):\n",
    "        self.input_rows = input_rows\n",
    "        self.input_cols = input_cols\n",
    "        self.num_nodes = num_nodes\n",
    "        self.next = None\n",
    "        self.prev = None\n",
    "        self.w = np.random.uniform(size=(self.input_cols,num_nodes))\n",
    "        self.learning_rate = learning_rate\n",
    "        \n",
    "        if activation_func == \"sigmoid\":\n",
    "            self.activation_func = self.sigmoid\n",
    "            self.d_activation_func = self.d_sigmoid\n",
    "            \n",
    "        else:\n",
    "            pass\n",
    "        \n",
    "    def feedforward(self, x):\n",
    "        \"\"\"\n",
    "        return the predictions (represented by a probability)\n",
    "        \"\"\"\n",
    "        # calculate stuff\n",
    "        before_activation = np.dot(x, w)\n",
    "        self.output = self.activation_func(before_activation) \n",
    "        self.derivative = self.d_activation_func(before_activation)\n",
    "        \n",
    "        \n",
    "        # if there's a next layer\n",
    "        if self.next:\n",
    "            # add bias to the end of each row of self.output\n",
    "            for i in range(self.input_rows):\n",
    "                self.output[i] = self.output[i].append(1)\n",
    "            \n",
    "            # call next layer's feedforward step\n",
    "            self.next.feedforward(self.output)\n",
    "\n",
    "        \n",
    "    def backprop(self, prev_deltas):\n",
    "        \"\"\"\n",
    "        compute derivatives and adjust w\n",
    "        \"\"\"\n",
    "        \n",
    "        deltas = np.dot(self.derivative, prev_deltas)\n",
    "        self.prev.backprop(np.dot(self.w, deltas))\n",
    "        self.w = self.w - self.learning_rate * np.dot(self.output, deltas)\n",
    "    \n",
    "        \n",
    "    def sigmoid(self, x):\n",
    "        \"\"\"\n",
    "        sigmoid function\n",
    "        \"\"\"\n",
    "        return 1 / (1 + np.exp(-x))\n",
    "\n",
    "    def d_sigmoid(self, x):\n",
    "        \"\"\"\n",
    "        derivative of sigmoid\n",
    "        \"\"\"\n",
    "        return x * (1. - x)\n",
    "    \n",
    "class OutputLayer(Layer):\n",
    "    def __init__(self, input_rows, input_cols, learning_rate=0.01, num_nodes=200, activation_func=\"softmax\", error_func=\"squared_error\"):\n",
    "        self.input_rows = input_rows\n",
    "        self.input_cols = input_cols\n",
    "        self.num_nodes = num_nodes\n",
    "        self.next = None\n",
    "        self.prev = None\n",
    "        self.w = np.random.uniform(size=(self.input_cols,num_nodes))\n",
    "        self.learning_rate = learning_rate\n",
    "        \n",
    "        if activation_func == \"softmax\":\n",
    "            self.activation_func = self.softmax\n",
    "            self.d_activation_func = self.d_softmax\n",
    "\n",
    "            \n",
    "        else:\n",
    "            pass\n",
    "        \n",
    "        if error_func == \"squared_error\":\n",
    "            self.error_func = (lambda x, target: (1/2) * np.squared(x - target))\n",
    "            self.d_error_func = lambda x, target: x - target\n",
    "        \n",
    "        \n",
    "    def backprop(self, targets):\n",
    "        deltas = self.derivative * self.d_error_func(self.output, targets)\n",
    "        self.prev.backprop(np.dot(self.w, deltas))\n",
    "        self.w = self.w - self.learning_rate * np.dot(self.output, deltas)\n",
    "    \n",
    "    def softmax(self, x):\n",
    "        e = np.exp(x)\n",
    "        e_sum = np.sum(e, axis=1)\n",
    "        y = []\n",
    "        for i in range(len(e)):\n",
    "            y.append(e[i]/e_sum[i])\n",
    "        return np.array(y)\n",
    "\n",
    "    def d_softmax(self, x):\n",
    "        \n",
    "    \n",
    "class NeuralNet:\n",
    "    def __init__(self, learning_rate, num_epochs):\n",
    "        self.first = None\n",
    "        self.last = None\n",
    "        self.learning_rate = learning_rate\n",
    "        self.num_epochs = num_epochs\n",
    "        \n",
    "    def add_layer(self, layer):\n",
    "        \"\"\"\n",
    "        Add layer to the end\n",
    "        \"\"\"\n",
    "        if not self.first:\n",
    "            self.first = layer\n",
    "            self.last = layer\n",
    "            \n",
    "        else:\n",
    "            temp = self.last\n",
    "            temp.next = layer\n",
    "            layer.prev = temp\n",
    "            self.last = layer\n",
    "            \n",
    "    def fit(self, x_train, y_train):\n",
    "        x_input = []\n",
    "        # add bias to x\n",
    "        for i in range(len(x_train)):\n",
    "            x_input.append(x[i].append(1))\n",
    "            \n",
    "        for i in range(self.num_epochs):\n",
    "            self.first.feedforward(x_input)\n",
    "            self.last.backprop(y_train)\n",
    "\n",
    "\n",
    "\n",
    "        \n",
    "        \n",
    "        \n",
    "        "
   ]
  },
  {
   "cell_type": "code",
   "execution_count": 119,
   "metadata": {},
   "outputs": [
    {
     "name": "stdout",
     "output_type": "stream",
     "text": [
      "error at i = 0 -5440394.06185\n",
      "[[  94.40669398  104.89006279   90.80468338  106.35614204   95.30846331\n",
      "   113.42472528   99.04346378   98.6508905    96.01620947   99.3465586 ]\n",
      " [  94.40669398  104.89006279   90.80468338  106.35614204   95.30846331\n",
      "   113.42472528   99.04346378   98.6508905    96.01620947   99.3465586 ]\n",
      " [  94.40669398  104.89006279   90.80468338  106.35614204   95.30846331\n",
      "   113.42472528   99.04346378   98.6508905    96.01620947   99.3465586 ]]\n",
      "[[  5.49690578e-09   1.96330386e-04   1.49894247e-10   8.50545684e-04\n",
      "    1.35441495e-08   9.98951359e-01   5.67337947e-07   3.83132879e-07\n",
      "    2.74866612e-08   7.68199888e-07]\n",
      " [  5.49690578e-09   1.96330386e-04   1.49894247e-10   8.50545684e-04\n",
      "    1.35441495e-08   9.98951359e-01   5.67337947e-07   3.83132879e-07\n",
      "    2.74866612e-08   7.68199888e-07]\n",
      " [  5.49690578e-09   1.96330386e-04   1.49894247e-10   8.50545684e-04\n",
      "    1.35441495e-08   9.98951359e-01   5.67337947e-07   3.83132879e-07\n",
      "    2.74866612e-08   7.68199888e-07]]\n",
      "error at i = 10 -924870.91148\n",
      "[[ 113.12732948  112.69396486  113.10811974  112.89870506  113.08751214\n",
      "   112.88006273  113.10175337  113.12530813  113.15966164  113.06465864]\n",
      " [ 113.12732948  112.69396486  113.10811974  112.89870506  113.08751214\n",
      "   112.88006273  113.10175337  113.12530813  113.15966164  113.06465864]\n",
      " [ 113.12732948  112.69396486  113.10811974  112.89870506  113.08751214\n",
      "   112.88006273  113.10175337  113.12530813  113.15966164  113.06465864]]\n",
      "[[ 0.10974943  0.0711532   0.1076613   0.08731965  0.10546536  0.08570688\n",
      "   0.10697806  0.10952782  0.11335586  0.10308244]\n",
      " [ 0.10974943  0.0711532   0.1076613   0.08731965  0.10546536  0.08570688\n",
      "   0.10697806  0.10952782  0.11335586  0.10308244]\n",
      " [ 0.10974943  0.0711532   0.1076613   0.08731965  0.10546536  0.08570688\n",
      "   0.10697806  0.10952782  0.11335586  0.10308244]]\n",
      "error at i = 20 -921680.415031\n",
      "[[ 113.18042494  113.02867115  113.16807114  113.1536146   113.15511921\n",
      "   113.08456835  113.18892818  113.23748586  113.21154818  113.15369847]\n",
      " [ 113.18042494  113.02867115  113.16807114  113.1536146   113.15511921\n",
      "   113.08456835  113.18892818  113.23748586  113.21154818  113.15369847]\n",
      " [ 113.18042494  113.02867115  113.16807114  113.1536146   113.15511921\n",
      "   113.08456835  113.18892818  113.23748586  113.21154818  113.15369847]]\n",
      "[[ 0.10228532  0.08788353  0.10102948  0.09957945  0.09972939  0.09293586\n",
      "   0.10315879  0.10829155  0.10551883  0.0995878 ]\n",
      " [ 0.10228532  0.08788353  0.10102948  0.09957945  0.09972939  0.09293586\n",
      "   0.10315879  0.10829155  0.10551883  0.0995878 ]\n",
      " [ 0.10228532  0.08788353  0.10102948  0.09957945  0.09972939  0.09293586\n",
      "   0.10315879  0.10829155  0.10551883  0.0995878 ]]\n",
      "error at i = 30 -921284.647466\n",
      "[[ 113.19933606  113.16287128  113.18951215  113.20990457  113.17900025\n",
      "   113.12334824  113.21194117  113.26143875  113.22568633  113.18028587]\n",
      " [ 113.19933606  113.16287128  113.18951215  113.20990457  113.17900025\n",
      "   113.12334824  113.21194117  113.26143875  113.22568633  113.18028587]\n",
      " [ 113.19933606  113.16287128  113.18951215  113.20990457  113.17900025\n",
      "   113.12334824  113.21194117  113.26143875  113.22568633  113.18028587]]\n",
      "[[ 0.10043867  0.09684216  0.0994568   0.10150578  0.09841679  0.09308932\n",
      "   0.10171272  0.10687393  0.10312043  0.0985434 ]\n",
      " [ 0.10043867  0.09684216  0.0994568   0.10150578  0.09841679  0.09308932\n",
      "   0.10171272  0.10687393  0.10312043  0.0985434 ]\n",
      " [ 0.10043867  0.09684216  0.0994568   0.10150578  0.09841679  0.09308932\n",
      "   0.10171272  0.10687393  0.10312043  0.0985434 ]]\n",
      "error at i = 40 -921252.775686\n",
      "[[ 113.20598236  113.23148344  113.19703192  113.22320619  113.18730637\n",
      "   113.13448792  113.21862741  113.26554165  113.22983774  113.18890017]\n",
      " [ 113.20598236  113.23148344  113.19703192  113.22320619  113.18730637\n",
      "   113.13448792  113.21862741  113.26554165  113.22983774  113.18890017]\n",
      " [ 113.20598236  113.23148344  113.19703192  113.22320619  113.18730637\n",
      "   113.13448792  113.21862741  113.26554165  113.22983774  113.18890017]]\n",
      "[[ 0.09971989  0.10229556  0.09883134  0.10145233  0.09787481  0.09283936\n",
      "   0.10098886  0.10583957  0.10212735  0.09803092]\n",
      " [ 0.09971989  0.10229556  0.09883134  0.10145233  0.09787481  0.09283936\n",
      "   0.10098886  0.10583957  0.10212735  0.09803092]\n",
      " [ 0.09971989  0.10229556  0.09883134  0.10145233  0.09787481  0.09283936\n",
      "   0.10098886  0.10583957  0.10212735  0.09803092]]\n",
      "error at i = 50 -921298.827528\n",
      "[[ 113.20761607  113.26996708  113.19902405  113.22570528  113.18962088\n",
      "   113.13788343  113.21991984  113.26448688  113.23025826  113.19122421]\n",
      " [ 113.20761607  113.26996708  113.19902405  113.22570528  113.18962088\n",
      "   113.13788343  113.21991984  113.26448688  113.23025826  113.19122421]\n",
      " [ 113.20761607  113.26996708  113.19902405  113.22570528  113.18962088\n",
      "   113.13788343  113.21991984  113.26448688  113.23025826  113.19122421]]\n",
      "[[ 0.09934053  0.10573169  0.09849065  0.10115388  0.09756887  0.09264927\n",
      "   0.10057035  0.10515385  0.10161548  0.09772543]\n",
      " [ 0.09934053  0.10573169  0.09849065  0.10115388  0.09756887  0.09264927\n",
      "   0.10057035  0.10515385  0.10161548  0.09772543]\n",
      " [ 0.09934053  0.10573169  0.09849065  0.10115388  0.09756887  0.09264927\n",
      "   0.10057035  0.10515385  0.10161548  0.09772543]]\n"
     ]
    }
   ],
   "source": [
    "def train_mlp(data):\n",
    "    # set number of hidden nodes\n",
    "    num_hidden_nodes = 200\n",
    "    num_input = 40000\n",
    "    input_size = 4096\n",
    "    learning_rate = 0.001\n",
    "    num_epoch = 51\n",
    "\n",
    "    # initialize random wh, bh, wo, and bo\n",
    "    wh = np.random.uniform(size=(input_size,num_hidden_nodes))\n",
    "    bh = np.random.uniform(size=(1, num_hidden_nodes))\n",
    "    wo = np.random.uniform(size=(num_hidden_nodes, 10))\n",
    "    bo = np.random.uniform(size=(1, 10))\n",
    "\n",
    "    \n",
    "    for i in range(num_epoch):\n",
    "        hidden_layer_input = np.dot(data[\"x_train\"], wh) + bh\n",
    "        hidden_layer_output = sigmoid(hidden_layer_input)\n",
    "        output_layer_input = np.dot(hidden_layer_output, wo) + bo\n",
    "        output_layer_output = softmax(output_layer_input)\n",
    "        error_output = log_loss(output_layer_output)\n",
    "        \n",
    "        if i % 10 == 0:\n",
    "            print(\"error at i =\", i,  np.sum(error_output))\n",
    "            print(output_layer_input[:3])\n",
    "            print(output_layer_output[:3])\n",
    "#             print(wo[0], wh[0], bo[0], bh[0])\n",
    "\n",
    "\n",
    "        slope_output_layer = d_softmax(output_layer_output, data[\"y_train\"])\n",
    "        slope_hidden_layer = d_sigmoid(hidden_layer_output)\n",
    "        d_output = error_output * slope_output_layer * learning_rate\n",
    "\n",
    "        error_hidden = np.dot(d_output, wo.T)\n",
    "        d_hidden = error_hidden * slope_hidden_layer\n",
    "\n",
    "        wo = wo + np.dot(hidden_layer_output.T, d_output) * learning_rate\n",
    "        wh = wh + np.dot(data[\"x_train\"].T, d_hidden) * learning_rate\n",
    "        bo = bo + np.sum(d_output, axis=0) * learning_rate\n",
    "        bh = bh + np.sum(d_hidden, axis=0) * learning_rate\n",
    "        \n",
    "    model = {\"wh\": wh, \"bh\": bh, \"wo\": wo, \"bo\": bo}\n",
    "        \n",
    "    return model\n",
    "\n",
    "model = train_mlp(data)\n",
    "\n",
    "# def predict(x, model, y):\n",
    "#     hidden_input = np.dot(x, model[\"wh\"]) + model[\"bh\"]\n",
    "#     hidden_output = sigmoid(hidden_input)\n",
    "#     outer_input = np.dot(hidden_output, model['wo']) + model['bo']\n",
    "#     outer_ouput = sigmoid(outer_input)\n",
    "    \n",
    "    \n",
    "    \n",
    "\n"
   ]
  },
  {
   "cell_type": "code",
   "execution_count": 83,
   "metadata": {
    "collapsed": true
   },
   "outputs": [],
   "source": []
  },
  {
   "cell_type": "code",
   "execution_count": null,
   "metadata": {
    "scrolled": true
   },
   "outputs": [],
   "source": []
  },
  {
   "cell_type": "code",
   "execution_count": null,
   "metadata": {
    "collapsed": true
   },
   "outputs": [],
   "source": []
  }
 ],
 "metadata": {
  "kernelspec": {
   "display_name": "Python 3",
   "language": "python",
   "name": "python3"
  },
  "language_info": {
   "codemirror_mode": {
    "name": "ipython",
    "version": 3
   },
   "file_extension": ".py",
   "mimetype": "text/x-python",
   "name": "python",
   "nbconvert_exporter": "python",
   "pygments_lexer": "ipython3",
   "version": "3.6.3"
  }
 },
 "nbformat": 4,
 "nbformat_minor": 2
}
