{
 "cells": [
  {
   "cell_type": "markdown",
   "metadata": {},
   "source": [
    "# Load data"
   ]
  },
  {
   "cell_type": "code",
   "execution_count": 1,
   "metadata": {
    "collapsed": true
   },
   "outputs": [],
   "source": [
    "%matplotlib inline"
   ]
  },
  {
   "cell_type": "code",
   "execution_count": 2,
   "metadata": {
    "collapsed": true
   },
   "outputs": [],
   "source": [
    "import numpy as np \n",
    "import sklearn \n",
    "import scipy.misc\n",
    "import matplotlib.pyplot as plt"
   ]
  },
  {
   "cell_type": "code",
   "execution_count": 3,
   "metadata": {},
   "outputs": [
    {
     "name": "stdout",
     "output_type": "stream",
     "text": [
      "Done\n"
     ]
    }
   ],
   "source": [
    "# loading data\n",
    "x_train = np.loadtxt(\"data/train_x.csv\", delimiter=\",\")\n",
    "y_train = np.loadtxt(\"data/train_y.csv\", delimiter=\",\")\n",
    "x_test = np.loadtxt(\"data/test_x.csv\", delimiter=\",\")\n",
    "print(\"Done\")"
   ]
  },
  {
   "cell_type": "code",
   "execution_count": 4,
   "metadata": {},
   "outputs": [],
   "source": [
    "# encode y_train data in one-hot encoding\n",
    "y_train_one_hot = [[0 for i in range(10)] for i in range(len(y_train))]\n",
    "for i in range(len(y_train)):\n",
    "    y_train_one_hot[i][int(y_train[i])] = 1\n",
    "\n",
    "y_train_one_hot = np.array(y_train_one_hot)"
   ]
  },
  {
   "cell_type": "code",
   "execution_count": 5,
   "metadata": {},
   "outputs": [
    {
     "data": {
      "image/png": "[encoded data removed]",
      "text/plain": [
       "<matplotlib.figure.Figure at 0x193225ef28>"
      ]
     },
     "metadata": {},
     "output_type": "display_data"
    },
    {
     "name": "stdout",
     "output_type": "stream",
     "text": [
      "[ 4.]\n"
     ]
    }
   ],
   "source": [
    "def show_img(img):\n",
    "    plt.close()\n",
    "    plt.imshow(img, cmap='gray_r')\n",
    "    plt.show()\n",
    "\n",
    "x_train_reshaped = x_train.reshape(-1, 64, 64)\n",
    "y_train_reshaped = y_train.reshape(-1, 1) \n",
    "x_test_reshaped = x_test.reshape(-1, 64, 64)\n",
    "\n",
    "show_img(x_train_reshaped[0])\n",
    "print(y_train_reshaped[0])"
   ]
  },
  {
   "cell_type": "markdown",
   "metadata": {},
   "source": [
    "## Split training data into train / valid sets"
   ]
  },
  {
   "cell_type": "code",
   "execution_count": 6,
   "metadata": {
    "collapsed": true
   },
   "outputs": [],
   "source": [
    "from sklearn.model_selection import train_test_split\n",
    "x_train_s, x_valid_s, y_train_s, y_valid_s = train_test_split(x_train, y_train_one_hot, train_size=0.8, test_size=0.2)\n",
    "data = {\n",
    "    \"x_train\": x_train_s,\n",
    "    \"x_valid\": x_valid_s,\n",
    "    \"y_train\": y_train_s,\n",
    "    \"y_valid\": y_valid_s\n",
    "}"
   ]
  },
  {
   "cell_type": "code",
   "execution_count": 7,
   "metadata": {},
   "outputs": [],
   "source": [
    "# data[\"y_train\"] = data[\"y_train\"].astype(int)\n",
    "# data[\"y_valid\"] = data[\"y_valid\"].astype(int)\n",
    "# data[\"y_train\"] = data[\"y_train\"].T\n",
    "# data[\"y_valid\"] = data[\"y_valid\"].T\n",
    "# print(data[\"x_train\"].shape)\n",
    "# print(data[\"y_train\"].shape)"
   ]
  },
  {
   "cell_type": "markdown",
   "metadata": {},
   "source": [
    "# Baseline Linear Classifier: Linear SVM"
   ]
  },
  {
   "cell_type": "code",
   "execution_count": 18,
   "metadata": {
    "collapsed": true
   },
   "outputs": [],
   "source": [
    "from sklearn import metrics\n",
    "from sklearn.svm import LinearSVC"
   ]
  },
  {
   "cell_type": "code",
   "execution_count": 18,
   "metadata": {},
   "outputs": [
    {
     "data": {
      "text/plain": [
       "(40000, 4096)"
      ]
     },
     "execution_count": 18,
     "metadata": {},
     "output_type": "execute_result"
    }
   ],
   "source": []
  },
  {
   "cell_type": "code",
   "execution_count": 10,
   "metadata": {},
   "outputs": [
    {
     "name": "stdout",
     "output_type": "stream",
     "text": [
      "0.0988\n"
     ]
    }
   ],
   "source": [
    "def baseline_linear_svm(data):\n",
    "    \"\"\"\n",
    "    Using out-of-the-box linear SVM to classify data\n",
    "    \"\"\"\n",
    "    clf = LinearSVC()\n",
    "    \n",
    "    y_pred = clf.fit(data[\"x_train\"], data[\"y_train\"]).predict(data[\"x_valid\"])\n",
    "    print(y_pred)\n",
    "    return metrics.accuracy_score(data[\"y_valid\"], y_pred, average=\"macro\"), y_pred\n",
    "    \n",
    "# score, y_pred = baseline_linear_svm(data)\n",
    "# print(score)"
   ]
  },
  {
   "cell_type": "markdown",
   "metadata": {
    "collapsed": true
   },
   "source": [
    "# Neural Network"
   ]
  },
  {
   "cell_type": "code",
   "execution_count": 118,
   "metadata": {
    "collapsed": true
   },
   "outputs": [],
   "source": [
    "def sigmoid(x):\n",
    "    \"\"\"\n",
    "    sigmoid function\n",
    "    \"\"\"\n",
    "    return 1 / (1 + np.exp(-x))\n",
    "\n",
    "def d_sigmoid(x):\n",
    "    \"\"\"\n",
    "    derivative of sigmoid\n",
    "    \"\"\"\n",
    "    return x * (1. - x)\n",
    "\n",
    "def tanh(x):\n",
    "    \"\"\"\n",
    "    tanh function\n",
    "    \"\"\"\n",
    "    return np.tanh(x)\n",
    "\n",
    "def d_tanh(x):\n",
    "    \"\"\"\n",
    "    derivative of tanh\n",
    "    \"\"\"\n",
    "    return 1 - x*x\n",
    "\n",
    "def relu(x):\n",
    "    \"\"\"\n",
    "    relu function\n",
    "    \"\"\"\n",
    "    return np.log(1 + np.exp(x))\n",
    "\n",
    "def d_relu(x):\n",
    "    \"\"\"\n",
    "    derivative of relu\n",
    "    \"\"\"\n",
    "    return np.exp(x) / 1. + np.exp(x)\n",
    "\n",
    "def softmax(x):\n",
    "    \"\"\"\n",
    "    softmax classifier\n",
    "    40k x 10\n",
    "    \"\"\"\n",
    "    e = np.exp(x)\n",
    "    e_sum = np.sum(e, axis=1)\n",
    "    y = []\n",
    "    for i in range(len(e)):\n",
    "        y.append(e[i]/e_sum[i])\n",
    "    return np.array(y)\n",
    "\n",
    "def d_softmax(output, y):\n",
    "    \"\"\"\n",
    "    d loss / d output\n",
    "    \"\"\"\n",
    "    return output - y\n",
    "\n",
    "def log_loss(output):\n",
    "    loss = []\n",
    "    for i in range(len(output)):\n",
    "        log_loss_sum = []\n",
    "        for j in range(10):\n",
    "            log_loss_sum.append(np.log(output[i][j]))\n",
    "        loss.append(log_loss_sum)\n",
    "    return np.array(loss)\n",
    "        \n"
   ]
  },
  {
   "cell_type": "code",
   "execution_count": 8,
   "metadata": {},
   "outputs": [
    {
     "name": "stderr",
     "output_type": "stream",
     "text": [
      "/Users/cheryl/anaconda3/lib/python3.6/site-packages/ipykernel_launcher.py:54: RuntimeWarning: overflow encountered in exp\n",
      "/Users/cheryl/anaconda3/lib/python3.6/site-packages/ipykernel_launcher.py:47: RuntimeWarning: invalid value encountered in multiply\n"
     ]
    },
    {
     "ename": "NameError",
     "evalue": "name 'first' is not defined",
     "output_type": "error",
     "traceback": [
      "\u001b[0;31m---------------------------------------------------------------------------\u001b[0m",
      "\u001b[0;31mNameError\u001b[0m                                 Traceback (most recent call last)",
      "\u001b[0;32m<ipython-input-8-5cff2eaba9f6>\u001b[0m in \u001b[0;36m<module>\u001b[0;34m()\u001b[0m\n\u001b[1;32m    147\u001b[0m \u001b[0;34m\u001b[0m\u001b[0m\n\u001b[1;32m    148\u001b[0m \u001b[0mneural_net\u001b[0m\u001b[0;34m.\u001b[0m\u001b[0mfit\u001b[0m\u001b[0;34m(\u001b[0m\u001b[0mx_tr\u001b[0m\u001b[0;34m,\u001b[0m \u001b[0my_tr\u001b[0m\u001b[0;34m)\u001b[0m\u001b[0;34m\u001b[0m\u001b[0m\n\u001b[0;32m--> 149\u001b[0;31m \u001b[0mpredict_y\u001b[0m \u001b[0;34m=\u001b[0m \u001b[0mneural_net\u001b[0m\u001b[0;34m.\u001b[0m\u001b[0mpredict\u001b[0m\u001b[0;34m(\u001b[0m\u001b[0mdata\u001b[0m\u001b[0;34m[\u001b[0m\u001b[0;34m\"x_valid\"\u001b[0m\u001b[0;34m]\u001b[0m\u001b[0;34m)\u001b[0m\u001b[0;34m\u001b[0m\u001b[0m\n\u001b[0m\u001b[1;32m    150\u001b[0m \u001b[0mprint\u001b[0m\u001b[0;34m(\u001b[0m\u001b[0;34m\"Done\"\u001b[0m\u001b[0;34m)\u001b[0m\u001b[0;34m\u001b[0m\u001b[0m\n\u001b[1;32m    151\u001b[0m \u001b[0;34m\u001b[0m\u001b[0m\n",
      "\u001b[0;32m<ipython-input-8-5cff2eaba9f6>\u001b[0m in \u001b[0;36mpredict\u001b[0;34m(self, x)\u001b[0m\n\u001b[1;32m    133\u001b[0m     \u001b[0;32mdef\u001b[0m \u001b[0mpredict\u001b[0m\u001b[0;34m(\u001b[0m\u001b[0mself\u001b[0m\u001b[0;34m,\u001b[0m \u001b[0mx\u001b[0m\u001b[0;34m)\u001b[0m\u001b[0;34m:\u001b[0m\u001b[0;34m\u001b[0m\u001b[0m\n\u001b[1;32m    134\u001b[0m         \u001b[0mx_input\u001b[0m \u001b[0;34m=\u001b[0m \u001b[0mnp\u001b[0m\u001b[0;34m.\u001b[0m\u001b[0mappend\u001b[0m\u001b[0;34m(\u001b[0m\u001b[0mx\u001b[0m\u001b[0;34m,\u001b[0m \u001b[0mnp\u001b[0m\u001b[0;34m.\u001b[0m\u001b[0mones\u001b[0m\u001b[0;34m(\u001b[0m\u001b[0;34m(\u001b[0m\u001b[0mx\u001b[0m\u001b[0;34m.\u001b[0m\u001b[0mshape\u001b[0m\u001b[0;34m[\u001b[0m\u001b[0;36m0\u001b[0m\u001b[0;34m]\u001b[0m\u001b[0;34m,\u001b[0m \u001b[0;36m1\u001b[0m\u001b[0;34m)\u001b[0m\u001b[0;34m)\u001b[0m\u001b[0;34m,\u001b[0m \u001b[0maxis\u001b[0m\u001b[0;34m=\u001b[0m\u001b[0;34m-\u001b[0m\u001b[0;36m1\u001b[0m\u001b[0;34m)\u001b[0m\u001b[0;34m\u001b[0m\u001b[0m\n\u001b[0;32m--> 135\u001b[0;31m         \u001b[0mfirst\u001b[0m\u001b[0;34m.\u001b[0m\u001b[0mfeedforward\u001b[0m\u001b[0;34m(\u001b[0m\u001b[0mx_input\u001b[0m\u001b[0;34m)\u001b[0m\u001b[0;34m\u001b[0m\u001b[0m\n\u001b[0m\u001b[1;32m    136\u001b[0m         \u001b[0;32mreturn\u001b[0m \u001b[0mself\u001b[0m\u001b[0;34m.\u001b[0m\u001b[0mlast\u001b[0m\u001b[0;34m.\u001b[0m\u001b[0moutput\u001b[0m\u001b[0;34m\u001b[0m\u001b[0m\n\u001b[1;32m    137\u001b[0m \u001b[0;34m\u001b[0m\u001b[0m\n",
      "\u001b[0;31mNameError\u001b[0m: name 'first' is not defined"
     ]
    }
   ],
   "source": [
    "class Layer:\n",
    "    def __init__(self, input_rows, input_cols, learning_rate=0.01, num_nodes=200, activation_func=\"sigmoid\"):\n",
    "        self.input_rows = input_rows\n",
    "        self.input_cols = input_cols\n",
    "        self.num_nodes = num_nodes\n",
    "        self.next = None\n",
    "        self.prev = None\n",
    "        self.w = np.random.uniform(size=(self.input_cols,num_nodes))\n",
    "        self.learning_rate = learning_rate\n",
    "        \n",
    "        if activation_func == \"sigmoid\":\n",
    "            self.activation_func = self.sigmoid\n",
    "            self.d_activation_func = self.d_sigmoid\n",
    "            \n",
    "        else:\n",
    "            pass\n",
    "        \n",
    "    def feedforward(self, x):\n",
    "        \"\"\"\n",
    "        return the predictions (represented by a probability)\n",
    "        \"\"\"\n",
    "        # calculate stuff\n",
    "        before_activation = np.dot(x, self.w)\n",
    "        self.output = self.activation_func(before_activation) \n",
    "        self.derivative = self.d_activation_func(before_activation)\n",
    "        \n",
    "        \n",
    "        # if there's a next layer\n",
    "        if self.next:\n",
    "            # add bias to the end of each row of self.output\n",
    "            try:\n",
    "                self.output = np.append(self.output, np.ones((self.output.shape[0], 1)), axis=-1)\n",
    "            except ValueError:\n",
    "                self.output = np.append(self.output, 1) \n",
    "            \n",
    "            # call next layer's feedforward step\n",
    "            self.next.feedforward(self.output)\n",
    "\n",
    "        \n",
    "    def backprop(self, prev_deltas):\n",
    "        \"\"\"\n",
    "        compute derivatives and adjust w\n",
    "        \"\"\" \n",
    "        deltas = self.derivative * prev_deltas \n",
    "        if self.prev:\n",
    "            self.prev.backprop(np.dot(self.w[:-1], deltas))\n",
    "        self.w = self.w - (self.learning_rate * self.output[:-1] * deltas)\n",
    "    \n",
    "        \n",
    "    def sigmoid(self, x):\n",
    "        \"\"\"\n",
    "        sigmoid function\n",
    "        \"\"\"\n",
    "        return 1 / (1 + np.exp(-x))\n",
    "\n",
    "    def d_sigmoid(self, x):\n",
    "        \"\"\"\n",
    "        derivative of sigmoid\n",
    "        \"\"\"\n",
    "        return x * (1. - x)\n",
    "   \n",
    "    \n",
    "class OutputLayer(Layer):\n",
    "    def __init__(self, input_rows, input_cols, learning_rate=0.01, num_nodes=200, activation_func=\"softmax\"):\n",
    "        self.input_rows = input_rows\n",
    "        self.input_cols = input_cols\n",
    "        self.num_nodes = num_nodes\n",
    "        self.next = None\n",
    "        self.prev = None\n",
    "        self.w = np.random.uniform(size=(self.input_cols,num_nodes))\n",
    "        self.learning_rate = learning_rate\n",
    "        \n",
    "        if activation_func == \"softmax\":\n",
    "            self.activation_func = self.softmax\n",
    "            self.backprop_func = lambda x, target: x - target\n",
    "            \n",
    "        elif activation_func == \"sigmoid\":\n",
    "            self.activation_func = self.sigmoid\n",
    "            self.backprop_func = lambda x, target: self.d_sigmoid(x) * (x - target)\n",
    "            \n",
    "        else:\n",
    "            pass\n",
    "        \n",
    "        # Value is unused.\n",
    "        self.d_activation_func = lambda x: None\n",
    "     \n",
    "    def backprop(self, targets):\n",
    "        deltas = self.backprop_func(self.output, targets)\n",
    "        self.prev.backprop(np.dot(self.w[:-1], deltas))\n",
    "        self.w = self.w - self.learning_rate * np.dot(self.output, deltas)\n",
    "    \n",
    "    def softmax(self, x):\n",
    "        e = np.exp(x - np.amax(x))\n",
    "        dist = e / np.sum(e)\n",
    "        return dist\n",
    "        # e = np.exp(x)\n",
    "        # e_sum = np.sum(e, axis=1)\n",
    "        # y = []\n",
    "        # for i in range(len(e)):\n",
    "        #     y.append(e[i]/e_sum[i])\n",
    "        # return np.array(y)\n",
    "        \n",
    "    \n",
    "class NeuralNet:\n",
    "    def __init__(self, learning_rate, num_epochs):\n",
    "        self.first = None\n",
    "        self.last = None\n",
    "        self.learning_rate = learning_rate\n",
    "        self.num_epochs = num_epochs\n",
    "        \n",
    "    def add_layer(self, layer):\n",
    "        \"\"\"\n",
    "        Add layer to the end\n",
    "        \"\"\"\n",
    "        if not self.first:\n",
    "            self.first = layer\n",
    "            self.last = layer\n",
    "            \n",
    "        else:\n",
    "            temp = self.last\n",
    "            temp.next = layer\n",
    "            layer.prev = temp\n",
    "            self.last = layer\n",
    "            \n",
    "    def fit(self, x_train, y_train):\n",
    "        x_input = np.append(x_train, np.ones((x_train.shape[0], 1)), axis=-1)\n",
    "        \n",
    "        for i in range(self.num_epochs): \n",
    "            for j in range(len(x_input)):\n",
    "                self.first.feedforward(x_input[j])\n",
    "                self.last.backprop(y_train[j])\n",
    "                \n",
    "    def predict(self, x):\n",
    "        x_input = np.append(x, np.ones((x.shape[0], 1)), axis=-1)\n",
    "        self.first.feedforward(x_input)\n",
    "        return self.last.output\n",
    "\n",
    "\n",
    "x_tr = data[\"x_train\"]\n",
    "y_tr = data[\"y_train\"]\n",
    "\n",
    "neural_net = NeuralNet(0.1, 10)\n",
    "\n",
    "neural_net.add_layer(Layer(x_tr.shape[0], x_tr.shape[1] + 1, 0.1, 300))\n",
    "neural_net.add_layer(Layer(x_tr.shape[0], 300 + 1, 0.1, 200))\n",
    "neural_net.add_layer(OutputLayer(x_tr.shape[0], 200 + 1, 0.1, 10))\n",
    "\n",
    "neural_net.fit(x_tr, y_tr)\n",
    "predict_y = neural_net.predict(data[\"x_valid\"])\n",
    "print(\"Done\")\n",
    "        \n",
    "        \n",
    "        "
   ]
  },
  {
   "cell_type": "code",
   "execution_count": 119,
   "metadata": {},
   "outputs": [
    {
     "name": "stdout",
     "output_type": "stream",
     "text": [
      "error at i = 0 -5440394.06185\n",
      "[[  94.40669398  104.89006279   90.80468338  106.35614204   95.30846331\n",
      "   113.42472528   99.04346378   98.6508905    96.01620947   99.3465586 ]\n",
      " [  94.40669398  104.89006279   90.80468338  106.35614204   95.30846331\n",
      "   113.42472528   99.04346378   98.6508905    96.01620947   99.3465586 ]\n",
      " [  94.40669398  104.89006279   90.80468338  106.35614204   95.30846331\n",
      "   113.42472528   99.04346378   98.6508905    96.01620947   99.3465586 ]]\n",
      "[[  5.49690578e-09   1.96330386e-04   1.49894247e-10   8.50545684e-04\n",
      "    1.35441495e-08   9.98951359e-01   5.67337947e-07   3.83132879e-07\n",
      "    2.74866612e-08   7.68199888e-07]\n",
      " [  5.49690578e-09   1.96330386e-04   1.49894247e-10   8.50545684e-04\n",
      "    1.35441495e-08   9.98951359e-01   5.67337947e-07   3.83132879e-07\n",
      "    2.74866612e-08   7.68199888e-07]\n",
      " [  5.49690578e-09   1.96330386e-04   1.49894247e-10   8.50545684e-04\n",
      "    1.35441495e-08   9.98951359e-01   5.67337947e-07   3.83132879e-07\n",
      "    2.74866612e-08   7.68199888e-07]]\n",
      "error at i = 10 -924870.91148\n",
      "[[ 113.12732948  112.69396486  113.10811974  112.89870506  113.08751214\n",
      "   112.88006273  113.10175337  113.12530813  113.15966164  113.06465864]\n",
      " [ 113.12732948  112.69396486  113.10811974  112.89870506  113.08751214\n",
      "   112.88006273  113.10175337  113.12530813  113.15966164  113.06465864]\n",
      " [ 113.12732948  112.69396486  113.10811974  112.89870506  113.08751214\n",
      "   112.88006273  113.10175337  113.12530813  113.15966164  113.06465864]]\n",
      "[[ 0.10974943  0.0711532   0.1076613   0.08731965  0.10546536  0.08570688\n",
      "   0.10697806  0.10952782  0.11335586  0.10308244]\n",
      " [ 0.10974943  0.0711532   0.1076613   0.08731965  0.10546536  0.08570688\n",
      "   0.10697806  0.10952782  0.11335586  0.10308244]\n",
      " [ 0.10974943  0.0711532   0.1076613   0.08731965  0.10546536  0.08570688\n",
      "   0.10697806  0.10952782  0.11335586  0.10308244]]\n",
      "error at i = 20 -921680.415031\n",
      "[[ 113.18042494  113.02867115  113.16807114  113.1536146   113.15511921\n",
      "   113.08456835  113.18892818  113.23748586  113.21154818  113.15369847]\n",
      " [ 113.18042494  113.02867115  113.16807114  113.1536146   113.15511921\n",
      "   113.08456835  113.18892818  113.23748586  113.21154818  113.15369847]\n",
      " [ 113.18042494  113.02867115  113.16807114  113.1536146   113.15511921\n",
      "   113.08456835  113.18892818  113.23748586  113.21154818  113.15369847]]\n",
      "[[ 0.10228532  0.08788353  0.10102948  0.09957945  0.09972939  0.09293586\n",
      "   0.10315879  0.10829155  0.10551883  0.0995878 ]\n",
      " [ 0.10228532  0.08788353  0.10102948  0.09957945  0.09972939  0.09293586\n",
      "   0.10315879  0.10829155  0.10551883  0.0995878 ]\n",
      " [ 0.10228532  0.08788353  0.10102948  0.09957945  0.09972939  0.09293586\n",
      "   0.10315879  0.10829155  0.10551883  0.0995878 ]]\n",
      "error at i = 30 -921284.647466\n",
      "[[ 113.19933606  113.16287128  113.18951215  113.20990457  113.17900025\n",
      "   113.12334824  113.21194117  113.26143875  113.22568633  113.18028587]\n",
      " [ 113.19933606  113.16287128  113.18951215  113.20990457  113.17900025\n",
      "   113.12334824  113.21194117  113.26143875  113.22568633  113.18028587]\n",
      " [ 113.19933606  113.16287128  113.18951215  113.20990457  113.17900025\n",
      "   113.12334824  113.21194117  113.26143875  113.22568633  113.18028587]]\n",
      "[[ 0.10043867  0.09684216  0.0994568   0.10150578  0.09841679  0.09308932\n",
      "   0.10171272  0.10687393  0.10312043  0.0985434 ]\n",
      " [ 0.10043867  0.09684216  0.0994568   0.10150578  0.09841679  0.09308932\n",
      "   0.10171272  0.10687393  0.10312043  0.0985434 ]\n",
      " [ 0.10043867  0.09684216  0.0994568   0.10150578  0.09841679  0.09308932\n",
      "   0.10171272  0.10687393  0.10312043  0.0985434 ]]\n",
      "error at i = 40 -921252.775686\n",
      "[[ 113.20598236  113.23148344  113.19703192  113.22320619  113.18730637\n",
      "   113.13448792  113.21862741  113.26554165  113.22983774  113.18890017]\n",
      " [ 113.20598236  113.23148344  113.19703192  113.22320619  113.18730637\n",
      "   113.13448792  113.21862741  113.26554165  113.22983774  113.18890017]\n",
      " [ 113.20598236  113.23148344  113.19703192  113.22320619  113.18730637\n",
      "   113.13448792  113.21862741  113.26554165  113.22983774  113.18890017]]\n",
      "[[ 0.09971989  0.10229556  0.09883134  0.10145233  0.09787481  0.09283936\n",
      "   0.10098886  0.10583957  0.10212735  0.09803092]\n",
      " [ 0.09971989  0.10229556  0.09883134  0.10145233  0.09787481  0.09283936\n",
      "   0.10098886  0.10583957  0.10212735  0.09803092]\n",
      " [ 0.09971989  0.10229556  0.09883134  0.10145233  0.09787481  0.09283936\n",
      "   0.10098886  0.10583957  0.10212735  0.09803092]]\n",
      "error at i = 50 -921298.827528\n",
      "[[ 113.20761607  113.26996708  113.19902405  113.22570528  113.18962088\n",
      "   113.13788343  113.21991984  113.26448688  113.23025826  113.19122421]\n",
      " [ 113.20761607  113.26996708  113.19902405  113.22570528  113.18962088\n",
      "   113.13788343  113.21991984  113.26448688  113.23025826  113.19122421]\n",
      " [ 113.20761607  113.26996708  113.19902405  113.22570528  113.18962088\n",
      "   113.13788343  113.21991984  113.26448688  113.23025826  113.19122421]]\n",
      "[[ 0.09934053  0.10573169  0.09849065  0.10115388  0.09756887  0.09264927\n",
      "   0.10057035  0.10515385  0.10161548  0.09772543]\n",
      " [ 0.09934053  0.10573169  0.09849065  0.10115388  0.09756887  0.09264927\n",
      "   0.10057035  0.10515385  0.10161548  0.09772543]\n",
      " [ 0.09934053  0.10573169  0.09849065  0.10115388  0.09756887  0.09264927\n",
      "   0.10057035  0.10515385  0.10161548  0.09772543]]\n"
     ]
    }
   ],
   "source": [
    "def train_mlp(data):\n",
    "    # set number of hidden nodes\n",
    "    num_hidden_nodes = 200\n",
    "    num_input = 40000\n",
    "    input_size = 4096\n",
    "    learning_rate = 0.001\n",
    "    num_epoch = 51\n",
    "\n",
    "    # initialize random wh, bh, wo, and bo\n",
    "    wh = np.random.uniform(size=(input_size,num_hidden_nodes))\n",
    "    bh = np.random.uniform(size=(1, num_hidden_nodes))\n",
    "    wo = np.random.uniform(size=(num_hidden_nodes, 10))\n",
    "    bo = np.random.uniform(size=(1, 10))\n",
    "\n",
    "    \n",
    "    for i in range(num_epoch):\n",
    "        hidden_layer_input = np.dot(data[\"x_train\"], wh) + bh\n",
    "        hidden_layer_output = sigmoid(hidden_layer_input)\n",
    "        output_layer_input = np.dot(hidden_layer_output, wo) + bo\n",
    "        output_layer_output = softmax(output_layer_input)\n",
    "        error_output = log_loss(output_layer_output)\n",
    "        \n",
    "        if i % 10 == 0:\n",
    "            print(\"error at i =\", i,  np.sum(error_output))\n",
    "            print(output_layer_input[:3])\n",
    "            print(output_layer_output[:3])\n",
    "#             print(wo[0], wh[0], bo[0], bh[0])\n",
    "\n",
    "\n",
    "        slope_output_layer = d_softmax(output_layer_output, data[\"y_train\"])\n",
    "        slope_hidden_layer = d_sigmoid(hidden_layer_output)\n",
    "        d_output = error_output * slope_output_layer * learning_rate\n",
    "\n",
    "        error_hidden = np.dot(d_output, wo.T)\n",
    "        d_hidden = error_hidden * slope_hidden_layer\n",
    "\n",
    "        wo = wo + np.dot(hidden_layer_output.T, d_output) * learning_rate\n",
    "        wh = wh + np.dot(data[\"x_train\"].T, d_hidden) * learning_rate\n",
    "        bo = bo + np.sum(d_output, axis=0) * learning_rate\n",
    "        bh = bh + np.sum(d_hidden, axis=0) * learning_rate\n",
    "        \n",
    "    model = {\"wh\": wh, \"bh\": bh, \"wo\": wo, \"bo\": bo}\n",
    "        \n",
    "    return model\n",
    "\n",
    "model = train_mlp(data)\n",
    "\n",
    "# def predict(x, model, y):\n",
    "#     hidden_input = np.dot(x, model[\"wh\"]) + model[\"bh\"]\n",
    "#     hidden_output = sigmoid(hidden_input)\n",
    "#     outer_input = np.dot(hidden_output, model['wo']) + model['bo']\n",
    "#     outer_ouput = sigmoid(outer_input)\n",
    "    \n",
    "    \n",
    "    \n",
    "\n"
   ]
  },
  {
   "cell_type": "code",
   "execution_count": 83,
   "metadata": {
    "collapsed": true
   },
   "outputs": [],
   "source": []
  },
  {
   "cell_type": "code",
   "execution_count": null,
   "metadata": {
    "collapsed": true,
    "scrolled": true
   },
   "outputs": [],
   "source": []
  },
  {
   "cell_type": "code",
   "execution_count": null,
   "metadata": {
    "collapsed": true
   },
   "outputs": [],
   "source": []
  }
 ],
 "metadata": {
  "kernelspec": {
   "display_name": "Python 3",
   "language": "python",
   "name": "python3"
  },
  "language_info": {
   "codemirror_mode": {
    "name": "ipython",
    "version": 3
   },
   "file_extension": ".py",
   "mimetype": "text/x-python",
   "name": "python",
   "nbconvert_exporter": "python",
   "pygments_lexer": "ipython3",
   "version": "3.6.3"
  }
 },
 "nbformat": 4,
 "nbformat_minor": 2
}
