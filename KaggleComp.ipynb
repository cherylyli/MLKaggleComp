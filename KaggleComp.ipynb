{
 "cells": [
  {
   "cell_type": "markdown",
   "metadata": {},
   "source": [
    "# Load data"
   ]
  },
  {
   "cell_type": "code",
   "execution_count": 1,
   "metadata": {
    "collapsed": true
   },
   "outputs": [],
   "source": [
    "%matplotlib inline"
   ]
  },
  {
   "cell_type": "code",
   "execution_count": 2,
   "metadata": {
    "collapsed": true
   },
   "outputs": [],
   "source": [
    "import numpy as np \n",
    "import sklearn \n",
    "import scipy.misc\n",
    "import matplotlib.pyplot as plt"
   ]
  },
  {
   "cell_type": "code",
   "execution_count": 71,
   "metadata": {},
   "outputs": [
    {
     "name": "stdout",
     "output_type": "stream",
     "text": [
      "Done\n"
     ]
    }
   ],
   "source": [
    "# loading data\n",
    "x_train = np.loadtxt(\"data/train_x.csv\", delimiter=\",\")\n",
    "y_train = np.loadtxt(\"data/train_y.csv\", delimiter=\",\")\n",
    "x_test = np.loadtxt(\"data/test_x.csv\", delimiter=\",\")\n",
    "print(\"Done\")"
   ]
  },
  {
   "cell_type": "code",
   "execution_count": 77,
   "metadata": {
    "collapsed": true
   },
   "outputs": [],
   "source": [
    "# encode y_train data in one-hot encoding\n",
    "def to_one_hot(y):\n",
    "    y_train_one_hot = [[0 for i in range(10)] for i in range(len(y))]\n",
    "    for i in range(len(y)):\n",
    "        y_train_one_hot[i][int(y[i])] = 1\n",
    "\n",
    "    return np.array(y_train_one_hot)\n",
    "\n",
    "def from_one_hot(one_hot_data):\n",
    "    y = []\n",
    "    for row in one_hot_data:\n",
    "        y.append(np.argmax(row))\n",
    "\n",
    "    return y"
   ]
  },
  {
   "cell_type": "code",
   "execution_count": 19,
   "metadata": {},
   "outputs": [],
   "source": [
    "def show_img(img):\n",
    "    plt.close()\n",
    "    plt.imshow(img, cmap='gray_r')\n",
    "    plt.show()\n",
    "\n",
    "x_train_reshaped = x_train.reshape(-1, 64, 64)\n",
    "y_train_reshaped = y_train.reshape(-1, 1) \n",
    "x_test_reshaped = x_test.reshape(-1, 64, 64)\n"
   ]
  },
  {
   "cell_type": "code",
   "execution_count": 5,
   "metadata": {
    "collapsed": true
   },
   "outputs": [],
   "source": [
    "def clean_data(x):\n",
    "    \"\"\"\n",
    "    Because the only thing that matters is the numbers in the picture, which are black, \n",
    "    we recode the pixels as 1 if the pixel was 255 and 0 otherwise. To reduce noise and to\n",
    "    reduce overflow/underflow in later stages.\n",
    "    \"\"\"\n",
    "    new_data = []\n",
    "    for row in x:\n",
    "        new_row = []\n",
    "        for pixel in row:\n",
    "            if pixel == 255:\n",
    "                new_row.append(1)\n",
    "            else:\n",
    "                new_row.append(0)\n",
    "        new_data.append(new_row)\n",
    "    return np.array(new_data)\n",
    "\n"
   ]
  },
  {
   "cell_type": "markdown",
   "metadata": {},
   "source": [
    "## Split training data into train / valid sets"
   ]
  },
  {
   "cell_type": "code",
   "execution_count": 73,
   "metadata": {
    "collapsed": true
   },
   "outputs": [],
   "source": [
    "from sklearn.model_selection import train_test_split\n",
    "x_train_s, x_valid_s, y_train_s, y_valid_s = train_test_split(x_train, y_train, train_size=0.8, test_size=0.2)\n",
    "data = {\n",
    "    \"x_train\": clean_data(x_train_s),\n",
    "    \"x_valid\": clean_data(x_valid_s),\n",
    "    \"y_train\": to_one_hot(y_train_s),\n",
    "    \"y_valid\": to_one_hot(y_valid_s),\n",
    "    \"y_train_og\": y_train_s,\n",
    "    \"y_valid_og\": y_valid_s,\n",
    "}"
   ]
  },
  {
   "cell_type": "code",
   "execution_count": 22,
   "metadata": {},
   "outputs": [
    {
     "data": {
      "image/png": "[encoded data removed]",
      "text/plain": [
       "<matplotlib.figure.Figure at 0x19211406d8>"
      ]
     },
     "metadata": {},
     "output_type": "display_data"
    },
    {
     "data": {
      "image/png": "[encoded data removed]",
      "text/plain": [
       "<matplotlib.figure.Figure at 0x19233afc50>"
      ]
     },
     "metadata": {},
     "output_type": "display_data"
    },
    {
     "data": {
      "image/png": "[encoded data removed]",
      "text/plain": [
       "<matplotlib.figure.Figure at 0x192116c7f0>"
      ]
     },
     "metadata": {},
     "output_type": "display_data"
    }
   ],
   "source": [
    "# x_cleaned_reshaped = data[\"x_train\"].reshape(-1, 64, 64)\n",
    "\n",
    "# x_train_s_reshaped = x_train_s.reshape(-1, 64, 64)\n",
    "# show_img(x_train_s_reshaped[0])\n",
    "# show_img(x_cleaned_reshaped[0])\n",
    "# x_v_cleaned_reshaped = data[\"x_valid\"].reshape(-1, 64, 64)\n",
    "# show_img(x_v_cleaned_reshaped[0])"
   ]
  },
  {
   "cell_type": "markdown",
   "metadata": {},
   "source": [
    "# Baseline Linear Classifier: Linear SVM"
   ]
  },
  {
   "cell_type": "code",
   "execution_count": 23,
   "metadata": {
    "collapsed": true
   },
   "outputs": [],
   "source": [
    "from sklearn import metrics\n",
    "from sklearn.svm import LinearSVC"
   ]
  },
  {
   "cell_type": "code",
   "execution_count": 18,
   "metadata": {},
   "outputs": [
    {
     "data": {
      "text/plain": [
       "(40000, 4096)"
      ]
     },
     "execution_count": 18,
     "metadata": {},
     "output_type": "execute_result"
    }
   ],
   "source": []
  },
  {
   "cell_type": "code",
   "execution_count": 25,
   "metadata": {},
   "outputs": [],
   "source": [
    "def baseline_linear_svm(data):\n",
    "    \"\"\"\n",
    "    Using out-of-the-box linear SVM to classify data\n",
    "    \"\"\"\n",
    "    clf = LinearSVC()\n",
    "    \n",
    "    y_pred = clf.fit(data[\"x_train\"], data[\"y_train\"]).predict(data[\"x_valid\"])\n",
    "    print(y_pred)\n",
    "    return metrics.accuracy_score(data[\"y_valid\"], y_pred, average=\"macro\"), y_pred\n",
    "    \n",
    "# score, y_pred = baseline_linear_svm(data)\n",
    "# print(score)"
   ]
  },
  {
   "cell_type": "markdown",
   "metadata": {
    "collapsed": true
   },
   "source": [
    "# Neural Network"
   ]
  },
  {
   "cell_type": "code",
   "execution_count": 26,
   "metadata": {
    "collapsed": true
   },
   "outputs": [],
   "source": [
    "from scipy.special import expit"
   ]
  },
  {
   "cell_type": "code",
   "execution_count": 118,
   "metadata": {
    "collapsed": true
   },
   "outputs": [],
   "source": [
    "def sigmoid(x):\n",
    "    \"\"\"\n",
    "    sigmoid function\n",
    "    \"\"\"\n",
    "    return 1 / (1 + np.exp(-x))\n",
    "\n",
    "def d_sigmoid(x):\n",
    "    \"\"\"\n",
    "    derivative of sigmoid\n",
    "    \"\"\"\n",
    "    return x * (1. - x)\n",
    "\n",
    "def tanh(x):\n",
    "    \"\"\"\n",
    "    tanh function\n",
    "    \"\"\"\n",
    "    return np.tanh(x)\n",
    "\n",
    "def d_tanh(x):\n",
    "    \"\"\"\n",
    "    derivative of tanh\n",
    "    \"\"\"\n",
    "    return 1 - x*x\n",
    "\n",
    "def relu(x):\n",
    "    \"\"\"\n",
    "    relu function\n",
    "    \"\"\"\n",
    "    return np.log(1 + np.exp(x))\n",
    "\n",
    "def d_relu(x):\n",
    "    \"\"\"\n",
    "    derivative of relu\n",
    "    \"\"\"\n",
    "    return np.exp(x) / 1. + np.exp(x)\n",
    "\n",
    "def softmax(x):\n",
    "    \"\"\"\n",
    "    softmax classifier\n",
    "    40k x 10\n",
    "    \"\"\"\n",
    "    e = np.exp(x)\n",
    "    e_sum = np.sum(e, axis=1)\n",
    "    y = []\n",
    "    for i in range(len(e)):\n",
    "        y.append(e[i]/e_sum[i])\n",
    "    return np.array(y)\n",
    "\n",
    "def d_softmax(output, y):\n",
    "    \"\"\"\n",
    "    d loss / d output\n",
    "    \"\"\"\n",
    "    return output - y\n",
    "\n",
    "def log_loss(output):\n",
    "    loss = []\n",
    "    for i in range(len(output)):\n",
    "        log_loss_sum = []\n",
    "        for j in range(10):\n",
    "            log_loss_sum.append(np.log(output[i][j]))\n",
    "        loss.append(log_loss_sum)\n",
    "    return np.array(loss)\n",
    "        \n"
   ]
  },
  {
   "cell_type": "code",
   "execution_count": null,
   "metadata": {
    "scrolled": false
   },
   "outputs": [
    {
     "name": "stdout",
     "output_type": "stream",
     "text": [
      "0 after feedforward & backprop\n",
      "0.1102\n"
     ]
    }
   ],
   "source": [
    "class Layer:\n",
    "    def __init__(self, input_rows, input_cols, learning_rate=0.01, num_nodes=200, activation_func=\"sigmoid\"):\n",
    "        self.input_rows = input_rows\n",
    "        self.input_cols = input_cols\n",
    "        self.num_nodes = num_nodes\n",
    "        self.next = None\n",
    "        self.prev = None\n",
    "        input_range = 1.0 / input_rows ** (1/2)\n",
    "        self.w = np.random.normal(loc=0, scale=input_range, size=(self.input_cols,num_nodes))\n",
    "        self.learning_rate = learning_rate\n",
    "        \n",
    "        if activation_func == \"sigmoid\":\n",
    "            self.activation_func = expit\n",
    "            self.d_activation_func = self.d_sigmoid\n",
    "            \n",
    "        else:\n",
    "            pass\n",
    "        \n",
    "    def feedforward(self, x):\n",
    "        \"\"\"\n",
    "        return the predictions (represented by a probability)\n",
    "        \"\"\"\n",
    "        # calculate stuff\n",
    "        self.input = x\n",
    "        before_activation = np.dot(x, self.w)\n",
    "        self.output = self.activation_func(before_activation) \n",
    "        self.derivative = self.d_activation_func(before_activation)\n",
    "        \n",
    "        \n",
    "        \n",
    "        # if there's a next layer\n",
    "        if self.next:\n",
    "            passed_output = []\n",
    "            # add bias to the end of each row of self.output\n",
    "            try:\n",
    "                passed_output = np.append(self.output, np.ones((self.output.shape[0], 1)), axis=-1)\n",
    "            except ValueError:\n",
    "                passed_output = np.append(self.output, 1) \n",
    "            \n",
    "            # call next layer's feedforward step\n",
    "            self.next.feedforward(passed_output)\n",
    "\n",
    "        \n",
    "    def backprop(self, prev_deltas):\n",
    "        \"\"\"\n",
    "        compute derivatives and adjust w\n",
    "        \"\"\" \n",
    "#         deltas = np.dot(self.derivative, prev_deltas )\n",
    "        deltas = prev_deltas * self.derivative\n",
    "        if self.prev:\n",
    "            self.prev.backprop(np.dot(self.w[:-1], deltas))\n",
    "        self.w = self.w - (self.learning_rate * np.dot(self.input.T, deltas))\n",
    "    \n",
    "        \n",
    "    def sigmoid(self, x):\n",
    "        \"\"\"\n",
    "        sigmoid function\n",
    "        \"\"\"\n",
    "        return 1 / (1 + np.exp(-x))\n",
    "\n",
    "    def d_sigmoid(self, x):\n",
    "        \"\"\"\n",
    "        derivative of sigmoid\n",
    "        \"\"\"\n",
    "        return x * (1. - x)\n",
    "   \n",
    "    \n",
    "class OutputLayer(Layer):\n",
    "    def __init__(self, input_rows, input_cols, learning_rate=0.01, num_nodes=200, activation_func=\"softmax\"):\n",
    "        self.input_rows = input_rows\n",
    "        self.input_cols = input_cols\n",
    "        self.num_nodes = num_nodes\n",
    "        self.next = None\n",
    "        self.prev = None\n",
    "        input_range = 1.0 / input_rows ** (1/2)\n",
    "        self.w = np.random.normal(loc=0, scale=input_range, size=(self.input_cols,num_nodes))\n",
    "        self.learning_rate = learning_rate\n",
    "        \n",
    "        if activation_func == \"softmax\":\n",
    "            self.activation_func = self.softmax\n",
    "            self.backprop_func = lambda x, target: x - target\n",
    "            \n",
    "        elif activation_func == \"sigmoid\":\n",
    "            self.activation_func = self.sigmoid\n",
    "            self.backprop_func = lambda x, target: self.d_sigmoid(x) * (x - target)\n",
    "            \n",
    "        else:\n",
    "            pass\n",
    "        \n",
    "        # Value is unused.\n",
    "        self.d_activation_func = lambda x: None\n",
    "     \n",
    "    def backprop(self, targets):\n",
    "        deltas = self.backprop_func(self.output, targets)\n",
    "        self.prev.backprop(np.dot(self.w[:-1], deltas.T).T)\n",
    "        self.w = self.w - self.learning_rate * np.dot(self.input.T, deltas)\n",
    "        \n",
    "    \n",
    "    def softmax(self, x):\n",
    "#         e = np.exp(x - np.amax(x))\n",
    "#         dist = e / np.sum(e)\n",
    "#         return dist\n",
    "#         e = np.exp(x-np.amax(x))\n",
    "#         e_sum = np.sum(e, axis=1)\n",
    "        y = []\n",
    "        for i in range(len(x)):\n",
    "            row_exp = np.exp(x[i] - np.amax(x[i]))\n",
    "            row_sum = np.sum(row_exp)\n",
    "            y.append(row_exp/row_sum)\n",
    "        return np.array(y)\n",
    "        \n",
    "    \n",
    "class NeuralNet:\n",
    "    def __init__(self, learning_rate, num_epochs):\n",
    "        self.first = None\n",
    "        self.last = None\n",
    "        self.learning_rate = learning_rate\n",
    "        self.num_epochs = num_epochs\n",
    "        \n",
    "    def add_layer(self, layer):\n",
    "        \"\"\"\n",
    "        Add layer to the end\n",
    "        \"\"\"\n",
    "        if not self.first:\n",
    "            self.first = layer\n",
    "            self.last = layer\n",
    "            \n",
    "        else:\n",
    "            temp = self.last\n",
    "            temp.next = layer\n",
    "            layer.prev = temp\n",
    "            self.last = layer\n",
    "            \n",
    "    def fit(self, x_train, y_train):\n",
    "        x_input = np.append(x_train, np.ones((x_train.shape[0], 1)), axis=-1)\n",
    "        \n",
    "        for i in range(self.num_epochs):\n",
    "\n",
    "#             print(i, \"before feedforward & backprop\")\n",
    "#             print(self.first.w)\n",
    "#             print(self.first.next.w)\n",
    "#             print(self.last.w)\n",
    "            for j in range(0, len(x_input), 1000):\n",
    "                self.first.feedforward(x_input[j:j+1000])\n",
    "                self.last.backprop(y_train[j:j+1000])\n",
    "                \n",
    "#             print(i, \"after feedforward & backprop\")\n",
    "#             print(self.first.w)\n",
    "#             print(self.first.next.w)\n",
    "#             print(self.last.w)\n",
    "            if i%10 == 0:\n",
    "                print(i, \"after feedforward & backprop\")\n",
    "                print(self.get_accuracy())\n",
    "                \n",
    "                \n",
    "    def predict(self, x):\n",
    "        x_input = np.append(x, np.ones((x.shape[0], 1)), axis=-1)\n",
    "        self.first.feedforward(x_input)\n",
    "        return self.last.output\n",
    "    \n",
    "    def get_accuracy(self):\n",
    "        y_pred = self.predict(data[\"x_valid\"])\n",
    "        return metrics.accuracy_score(data[\"y_valid_og\"], from_one_hot(y_pred))\n",
    "\n",
    "\n",
    "x_tr = data[\"x_train\"]\n",
    "y_tr = data[\"y_train\"]\n",
    "\n",
    "neural_net = NeuralNet(1e-5, 11)\n",
    "\n",
    "neural_net.add_layer(Layer(x_tr.shape[0], x_tr.shape[1] + 1, 1e-5, 300))\n",
    "# neural_net.add_layer(Layer(x_tr.shape[0], 300 + 1, 1e-6, 200))\n",
    "neural_net.add_layer(OutputLayer(x_tr.shape[0], 300 + 1, 1e-5, 10))\n",
    "\n",
    "neural_net.fit(x_tr, y_tr)\n",
    "predict_y = neural_net.predict(data[\"x_valid\"])\n",
    "print(\"Done\")\n",
    "        \n",
    "        \n",
    "        "
   ]
  },
  {
   "cell_type": "code",
   "execution_count": 91,
   "metadata": {},
   "outputs": [
    {
     "name": "stdout",
     "output_type": "stream",
     "text": [
      "[[ -3.32170962e-02   8.91498498e-02  -8.19796164e-02 ...,   2.27671944e-02\n",
      "   -1.67657537e-01  -1.91276228e-02]\n",
      " [  2.06230481e-02   1.60014401e-01  -7.50685090e-02 ...,   3.13939483e-01\n",
      "   -1.23864409e-01   9.12691473e-03]\n",
      " [ -1.43118609e-01  -5.23414343e-02  -2.07804312e-01 ...,   1.92564699e-01\n",
      "    1.03645713e-01   1.28003648e-01]\n",
      " ..., \n",
      " [  4.73107047e-02   1.26375543e-02  -3.10501088e-01 ...,   3.02129856e-02\n",
      "   -1.59127307e-01   1.59452056e-04]\n",
      " [  2.85233288e-01   1.91259839e-01  -1.40927490e-01 ...,   6.55229381e-02\n",
      "   -7.74582496e-03  -1.02979344e-01]\n",
      " [  1.09062927e-01   6.28601422e-02  -7.16873426e-02 ...,  -2.83865329e-02\n",
      "   -1.93778901e-01   3.86722218e-02]]\n",
      "[[-0.00074778 -0.0056412   0.00764514 ..., -0.00425466 -0.00023273\n",
      "   0.00353539]\n",
      " [ 0.00214177  0.00537554 -0.00394161 ...,  0.00412829  0.00033678\n",
      "   0.00088118]\n",
      " [ 0.00409851  0.00665253 -0.00112159 ..., -0.00095702 -0.00508079\n",
      "   0.00286436]\n",
      " ..., \n",
      " [-0.00208292 -0.00200593 -0.00057557 ..., -0.00263905  0.00360843\n",
      "  -0.00035432]\n",
      " [-0.00685275 -0.00228956 -0.00257017 ...,  0.00421961 -0.00141997\n",
      "  -0.00388979]\n",
      " [ 0.00215249  0.00189777 -0.00019571 ..., -0.01192932 -0.00221411\n",
      "   0.004638  ]]\n"
     ]
    }
   ],
   "source": [
    "\n",
    "print(np.dot(neural_net.first.input, neural_net.first.w))\n",
    "print(neural_net.first.w)\n",
    "# print(\"\\nfirst layer before activation\")\n",
    "# print(np.dot(neural_net.first.input, neural_net.first.w))\n",
    "# print(\"\\noutput of first layer\")\n",
    "# print(neural_net.first.output)\n",
    "# print(\"\\nsecond layer inputs\")\n",
    "# print(neural_net.first.next.input)\n",
    "# print(neural_net.first.next.output)\n",
    "# print(neural_net.last.input)\n",
    "# product_output = np.dot(neural_net.last.input, neural_net.last.w)\n",
    "# print(softmax(product_output))\n",
    "# print(predict_y[:10])\n",
    "# print(data[\"y_valid\"][:10])\n",
    "# print(metrics.accuracy_score(data[\"y_valid_og\"], from_one_hot(predict_y)))"
   ]
  },
  {
   "cell_type": "code",
   "execution_count": 83,
   "metadata": {
    "collapsed": true
   },
   "outputs": [],
   "source": []
  },
  {
   "cell_type": "code",
   "execution_count": null,
   "metadata": {
    "collapsed": true,
    "scrolled": true
   },
   "outputs": [],
   "source": []
  },
  {
   "cell_type": "code",
   "execution_count": null,
   "metadata": {
    "collapsed": true
   },
   "outputs": [],
   "source": []
  }
 ],
 "metadata": {
  "kernelspec": {
   "display_name": "Python 3",
   "language": "python",
   "name": "python3"
  },
  "language_info": {
   "codemirror_mode": {
    "name": "ipython",
    "version": 3
   },
   "file_extension": ".py",
   "mimetype": "text/x-python",
   "name": "python",
   "nbconvert_exporter": "python",
   "pygments_lexer": "ipython3",
   "version": "3.6.3"
  }
 },
 "nbformat": 4,
 "nbformat_minor": 2
}
