{
  "nbformat": 4,
  "nbformat_minor": 0,
  "metadata": {
    "colab": {
      "name": "MLP_GPU_KF_Tune.ipynb",
      "version": "0.3.2",
      "views": {},
      "default_view": {},
      "provenance": [],
      "collapsed_sections": []
    },
    "kernelspec": {
      "name": "python3",
      "display_name": "Python 3"
    },
    "accelerator": "GPU"
  },
  "cells": [
    {
      "metadata": {
        "id": "3Q7eiJjJcoUE",
        "colab_type": "code",
        "colab": {
          "autoexec": {
            "startup": false,
            "wait_interval": 0
          },
          "output_extras": [
            {
              "item_id": 1
            }
          ],
          "base_uri": "https://localhost:8080/",
          "height": 35
        },
        "outputId": "9a28fd5f-2ec9-42e5-e26e-d054c9e3e77e",
        "executionInfo": {
          "status": "ok",
          "timestamp": 1521735392813,
          "user_tz": 240,
          "elapsed": 90478,
          "user": {
            "displayName": "Hadrien Blampoix",
            "photoUrl": "https://lh3.googleusercontent.com/a/default-user=s128",
            "userId": "115013089116009170299"
          }
        }
      },
      "cell_type": "code",
      "source": [
        "#imports\n",
        "import numpy as np \n",
        "import scipy.misc\n",
        "import matplotlib.pyplot as plt\n",
        "import sklearn \n",
        "from sklearn import metrics\n",
        "from sklearn.model_selection import train_test_split\n",
        "from sklearn.model_selection import KFold\n",
        "import gc\n",
        "import pandas as pd\n",
        "%matplotlib inline\n",
        "\n",
        "#import torch on collab, comment out all until import torch if not using collab \n",
        "from os import path\n",
        "from wheel.pep425tags import get_abbr_impl, get_impl_ver, get_abi_tag\n",
        "platform = '{}{}-{}'.format(get_abbr_impl(), get_impl_ver(), get_abi_tag())\n",
        "accelerator = 'cu80' if path.exists('/opt/bin/nvidia-smi') else 'cpu'\n",
        "!pip install -q http://download.pytorch.org/whl/{accelerator}/torch-0.3.0.post4-{platform}-linux_x86_64.whl torchvision\n",
        "  \n",
        "import torch\n",
        "from torch.autograd import Variable\n",
        "import torch.nn as nn\n",
        "import torch.nn.functional as F\n",
        "\n",
        "#test if using GPU on collab, comment out if not have tensorflow\n",
        "import tensorflow as tf\n",
        "tf.test.gpu_device_name()"
      ],
      "execution_count": 1,
      "outputs": [
        {
          "output_type": "execute_result",
          "data": {
            "text/plain": [
              "'/device:GPU:0'"
            ]
          },
          "metadata": {
            "tags": []
          },
          "execution_count": 1
        }
      ]
    },
    {
      "metadata": {
        "id": "ruA-XsPcdNMN",
        "colab_type": "text"
      },
      "cell_type": "markdown",
      "source": [
        "Load Data"
      ]
    },
    {
      "metadata": {
        "id": "gIjRa4_9c_P8",
        "colab_type": "code",
        "colab": {
          "autoexec": {
            "startup": false,
            "wait_interval": 0
          }
        }
      },
      "cell_type": "code",
      "source": [
        "#if data stored locally\n",
        "# x_train = np.loadtxt(\"train_x.csv\", delimiter=\",\")\n",
        "# y_train = np.loadtxt(\"train_y.csv\", delimiter=\",\")\n",
        "# x_test = np.loadtxt(\"test_x.csv\", delimiter=\",\")\n",
        "\n",
        "#if load from class web source using np\n",
        "# URL_ENDPOINT = \"http://cs.mcgill.ca/~ksinha4/datasets/kaggle/\"\n",
        "# x_train = np.loadtxt(URL_ENDPOINT+\"train_x.csv\", delimiter=\",\")\n",
        "# y_train = np.loadtxt(URL_ENDPOINT+\"train_y.csv\", delimiter=\",\")\n",
        "# x_test = np.loadtxt(URL_ENDPOINT+\"test_x.csv\", delimiter=\",\")\n",
        "\n",
        "#if previous load not work, load using pd\n",
        "URL_ENDPOINT = \"http://cs.mcgill.ca/~ksinha4/datasets/kaggle/\"\n",
        "df1 = pd.read_csv(URL_ENDPOINT+\"train_x.csv\", delimiter=\",\", header=None, dtype=\"uint8\")\n",
        "df2 = pd.read_csv(URL_ENDPOINT+\"train_y.csv\", delimiter=\",\", header=None, dtype=\"uint8\")\n",
        "#df3 = pd.read_csv(URL_ENDPOINT+\"test_x.csv\", delimiter=\",\", header=None)\n"
      ],
      "execution_count": 0,
      "outputs": []
    },
    {
      "metadata": {
        "id": "ynVkaF4Wc_Ss",
        "colab_type": "code",
        "colab": {
          "autoexec": {
            "startup": false,
            "wait_interval": 0
          }
        }
      },
      "cell_type": "code",
      "source": [
        "#df to numpy for 3rd loading method\n",
        "x_train = np.zeros((50000,4096), dtype=\"uint8\")\n",
        "y_train = np.zeros(50000, dtype=\"uint8\")\n",
        "x_train[:,:] = df1.as_matrix()\n",
        "y_train[:] = df2.as_matrix()[:,0]"
      ],
      "execution_count": 0,
      "outputs": []
    },
    {
      "metadata": {
        "id": "E8h8Blajd1fv",
        "colab_type": "text"
      },
      "cell_type": "markdown",
      "source": [
        "Data Manipulation Functions\n"
      ]
    },
    {
      "metadata": {
        "id": "Gnhc_3goc_VP",
        "colab_type": "code",
        "colab": {
          "autoexec": {
            "startup": false,
            "wait_interval": 0
          }
        }
      },
      "cell_type": "code",
      "source": [
        "# encode y_train data in one-hot encoding\n",
        "def to_one_hot(y):\n",
        "    y_train_one_hot = [[0 for i in range(10)] for i in range(len(y))]\n",
        "    for i in range(len(y)):\n",
        "        y_train_one_hot[i][int(y[i])] = 1\n",
        "\n",
        "    return np.array(y_train_one_hot)\n",
        "  \n",
        "def from_one_hot(one_hot_data):\n",
        "    y = []\n",
        "    for row in one_hot_data:\n",
        "        y.append(np.argmax(row))\n",
        "\n",
        "    return y\n",
        "\n",
        "  \n",
        "#for visualization\n",
        "def show_img(img):\n",
        "    plt.close()\n",
        "    plt.imshow(img, cmap='gray_r')\n",
        "    plt.show()\n",
        "#must reshape data\n",
        "# x_train_reshaped = x_train.reshape(-1, 64, 64)\n",
        "# y_train_reshaped = y_train.reshape(-1, 1) \n",
        "# x_test_reshaped = x_test.reshape(-1, 64, 64)\n",
        "\n",
        "\n",
        "#noise reduction with squashing function 255=1 , <255=-1\n",
        "#returns new np.array with dtype int8 to save on memory\n",
        "def clean_data(x):\n",
        "    new_data = []\n",
        "    for row in x:\n",
        "        new_row = []\n",
        "        for pixel in row:\n",
        "            if pixel == 255:\n",
        "                new_row.append(1.0)\n",
        "            else:\n",
        "                new_row.append(-1.0)\n",
        "        new_data.append(new_row)\n",
        "    return np.array(new_data, dtype=\"int8\")\n",
        "#x_train = clean_data(x_train)\n",
        "\n",
        "\n",
        "#shuffle data used at each epoch\n",
        "def shuffle_data(x, y):\n",
        "    order = np.random.permutation(x.shape[0])\n",
        "    shuffled_x = x[order]\n",
        "    shuffled_y = y[order]\n",
        "    return shuffled_x, shuffled_y"
      ],
      "execution_count": 0,
      "outputs": []
    },
    {
      "metadata": {
        "id": "EBQhjOvic_X8",
        "colab_type": "code",
        "colab": {
          "autoexec": {
            "startup": false,
            "wait_interval": 0
          }
        }
      },
      "cell_type": "code",
      "source": [
        "#train/test split\n",
        "x_train_s, x_valid_s, y_train_s, y_valid_s = train_test_split(x_train, y_train, train_size=0.8, test_size=0.2)\n",
        "data = {\n",
        "    \"x_train\": clean_data(x_train_s),\n",
        "    \"x_test\": clean_data(x_valid_s),\n",
        "    \"y_train\": to_one_hot(y_train_s),\n",
        "    \"y_test\": to_one_hot(y_valid_s),\n",
        "    \"y_train_og\": y_train_s,\n",
        "    \"y_test_og\": y_valid_s,\n",
        "}"
      ],
      "execution_count": 0,
      "outputs": []
    },
    {
      "metadata": {
        "id": "AzRNPalCc_af",
        "colab_type": "code",
        "colab": {
          "autoexec": {
            "startup": false,
            "wait_interval": 0
          },
          "output_extras": [
            {
              "item_id": 1
            }
          ],
          "base_uri": "https://localhost:8080/",
          "height": 35
        },
        "outputId": "b76d964b-71cf-41b7-82dc-87c9ae7fedee",
        "executionInfo": {
          "status": "ok",
          "timestamp": 1521738236837,
          "user_tz": 240,
          "elapsed": 254,
          "user": {
            "displayName": "Hadrien Blampoix",
            "photoUrl": "https://lh3.googleusercontent.com/a/default-user=s128",
            "userId": "115013089116009170299"
          }
        }
      },
      "cell_type": "code",
      "source": [
        "#use if need to free up memory\n",
        "#this deletes the original loaded data\n",
        "del x_train_s, x_valid_s\n",
        "del x_train, y_train\n",
        "gc.collect()"
      ],
      "execution_count": 6,
      "outputs": [
        {
          "output_type": "execute_result",
          "data": {
            "text/plain": [
              "319"
            ]
          },
          "metadata": {
            "tags": []
          },
          "execution_count": 6
        }
      ]
    },
    {
      "metadata": {
        "id": "ANgc8JUUedVS",
        "colab_type": "text"
      },
      "cell_type": "markdown",
      "source": [
        "MLP Torch Implementation using GPU"
      ]
    },
    {
      "metadata": {
        "id": "e3U8yT6gebPC",
        "colab_type": "code",
        "colab": {
          "autoexec": {
            "startup": false,
            "wait_interval": 0
          }
        }
      },
      "cell_type": "code",
      "source": [
        "class MLP(nn.Module):\n",
        "    def __init__(self):\n",
        "        super(MLP, self).__init__()\n",
        "        self.layers = []\n",
        "        self.num_layers = 0\n",
        "    \n",
        "    def add_layer(self, layer):\n",
        "        self.num_layers += 1\n",
        "        self.add_module(str(self.num_layers), layer)\n",
        "        self.layers.append(layer)\n",
        "    \n",
        "    def forward(self, x):\n",
        "        for layer in self.layers:\n",
        "            x = layer(x)\n",
        "        return x\n",
        "\n",
        "    \n",
        "class View_Layer(nn.Module):\n",
        "    def __init__(self, param1, param2):\n",
        "        super(View_Layer, self).__init__()\n",
        "        self.param1 = param1\n",
        "        self.param2 = param2\n",
        "        \n",
        "    def forward(self, x):\n",
        "        return x.view(self.param1, self.param2)\n",
        "    \n",
        "    \n",
        "def fitGPU(mlp, x_train, y_train, x_valid, y_valid, epochs, batch=100, lr=0.001, momentum=0.9):\n",
        "  \n",
        "    crit = nn.CrossEntropyLoss()\n",
        "    optimizer = torch.optim.Adam(mlp.parameters(), lr=lr)\n",
        "    \n",
        "    #used to track accuracy over epochs\n",
        "    train_acc = np.zeros(epochs)\n",
        "    test_acc = np.zeros(epochs)\n",
        "    \n",
        "    #max accuracy\n",
        "    maxaccu = 0\n",
        "    #at epoch:\n",
        "    maxindex = 0\n",
        "    accu = 0\n",
        "    \n",
        "    \n",
        "    for i in range(0, epochs):\n",
        "      \n",
        "        #print i every 5 epoch\n",
        "        if i%5 == 0:\n",
        "            print(i)\n",
        "            \n",
        "        #shuffle data    \n",
        "        X,Y = shuffle_data(x_train, y_train)\n",
        "        \n",
        "        #save mem\n",
        "        gc.collect()\n",
        "        \n",
        "        \n",
        "        for j in range(0, X.shape[0], batch):\n",
        "           \n",
        "            #create variables: x_in is float because mlp set to float to save mem\n",
        "            x_in = Variable(torch.from_numpy(X[j:j+batch]).float().cuda())\n",
        "            y_in = Variable(torch.from_numpy(Y[j:j+batch]).long().cuda())\n",
        "            \n",
        "            \n",
        "            optimizer.zero_grad()\n",
        "            \n",
        "            #feed forward\n",
        "            y_pred = mlp(x_in) \n",
        "            #calc loss\n",
        "            loss = crit(y_pred, y_in)\n",
        "            #back prop\n",
        "            loss.backward()\n",
        "            #update weights\n",
        "            optimizer.step()\n",
        "      \n",
        "            #save mem\n",
        "            del loss\n",
        "            del x_in, y_in\n",
        "            gc.collect()\n",
        "        \n",
        "        \n",
        "        del X,Y\n",
        "        #training acc\n",
        "        train_acc[i] = get_accuracy(mlp, x_train, y_train)\n",
        "        #validation acc\n",
        "        accu = get_accuracy(mlp, x_valid, y_valid)\n",
        "        test_acc[i] = accu\n",
        "        \n",
        "        #update maxacc and corresponding index(epoch)\n",
        "        if accu > maxaccu:\n",
        "          maxaccu = accu\n",
        "          maxindex = i\n",
        "\n",
        "    \n",
        "    \n",
        "    del crit, optimizer\n",
        "    gc.collect()\n",
        "    \n",
        "    return maxaccu, maxindex, accu, train_acc, test_acc\n",
        "  \n",
        "\n",
        "def predict(mlp, x):\n",
        "    return mlp(Variable(torch.from_numpy(x).float().cuda())).cpu().data.numpy()\n",
        "\n",
        "def get_accuracy(mlp, x_valid, y_valid):\n",
        "    y_pred = np.empty((len(x_valid), 10), dtype=y_valid.dtype)\n",
        "    for i in range(0, len(x_valid), 100):\n",
        "        y_pred[i:i+100] = predict(mlp, x_valid[i:i+100])\n",
        "            \n",
        "    return metrics.accuracy_score(y_valid, from_one_hot(y_pred))"
      ],
      "execution_count": 0,
      "outputs": []
    },
    {
      "metadata": {
        "id": "Ur5U-0rmhsyi",
        "colab_type": "text"
      },
      "cell_type": "markdown",
      "source": [
        "K-Fold Cross Validation for Testing Multiple Values of a Hyperparameter"
      ]
    },
    {
      "metadata": {
        "id": "4rWUt9Woeszr",
        "colab_type": "code",
        "colab": {
          "autoexec": {
            "startup": false,
            "wait_interval": 0
          }
        }
      },
      "cell_type": "code",
      "source": [
        "def k_foldGPU_Tune(x, y, act):\n",
        "  \n",
        "    gc.collect()\n",
        "    \n",
        "    # divide into 5 folds\n",
        "    kf = KFold(n_splits=5, shuffle=True)\n",
        "    kf.get_n_splits(x)\n",
        "    \n",
        "    #init ararays to store 5 folds, 4 values\n",
        "    final_acc = np.zeros((5,4))\n",
        "    max_acc = np.zeros((5,4))\n",
        "    max_epoch = np.zeros((5,4))\n",
        "    \n",
        "    train_epoch = []\n",
        "    test_epoch = []\n",
        "    \n",
        "    #set params\n",
        "    epoch_val=50\n",
        "    batch_val=500\n",
        "    lr_val=.000125\n",
        "    \n",
        "    i = 0 \n",
        "\n",
        "    # for each fold, train and compute accuracy\n",
        "    for train_index, test_index in kf.split(x):\n",
        "      \n",
        "      #option to not do all 5 folds for speed\n",
        "      if i < 2: \n",
        "\n",
        "          #create split\n",
        "          new_xt, new_xv = x[train_index].astype(\"float\"), x[test_index].astype(\"float\")\n",
        "          new_yt, new_yv = y[train_index].astype(\"float\"), y[test_index].astype(\"float\")\n",
        "\n",
        "\n",
        "          print(\"Training Fold \" + str(i))\n",
        "\n",
        "          #set list of values to test\n",
        "          #node_vals = np.arange(.000025, .000275, .000025)\n",
        "          node_vals = [4000,3000,2000,1000]     \n",
        "          #node_vals = np.logspace(-6.0, -2.0, num=5)\n",
        "\n",
        "          #to hold learning curve for each test val in this fold\n",
        "          train_KF = []\n",
        "          test_KF = []\n",
        "\n",
        "          #for each param val to be tested\n",
        "          for j in range(4):\n",
        "\n",
        "            #fit CNN to fold\n",
        "            mlp = MLP()\n",
        "            if act == \"relu\":\n",
        "              mlp.add_layer(nn.Linear(4096, node_vals[j]))          \n",
        "              mlp.add_layer(nn.ReLU())          \n",
        "              mlp.add_layer(nn.Linear(node_vals[j], 10))\n",
        "            if act == \"sig\":\n",
        "              mlp.add_layer(nn.Linear(4096, node_vals[j]))          \n",
        "              mlp.add_layer(nn.Sigmoid())          \n",
        "              mlp.add_layer(nn.Linear(node_vals[j], 10))\n",
        "            if act == \"tanh\":\n",
        "              mlp.add_layer(nn.Linear(4096, node_vals[j]))          \n",
        "              mlp.add_layer(nn.Tanh())          \n",
        "              mlp.add_layer(nn.Linear(node_vals[j], 10))\n",
        "            mlp.float()\n",
        "            mlp.cuda()\n",
        "\n",
        "            #fit\n",
        "            t1, t2, t3, t4, t5 = fitGPU(mlp, new_xt, new_yt, new_xv, new_yv, epoch_val, batch=batch_val, lr=lr_val)\n",
        "            print(\"Epoch, Batch, LR: \" + str(epoch_val) + \" , \" + str(batch_val) + \" , \" + str(le_val))\n",
        "            print(\"Results for Nodes: \" + str(node_vals[j]))\n",
        "            print(\"Max Accuracy: \" + str(t1) + \" at epoch: \" + str(t2))\n",
        "            print(\"Final Accuracy: \" + str(t3))\n",
        "            final_acc[i,j] =t3 \n",
        "            max_acc[i,j] =t1 \n",
        "            max_epoch[i,j] =t2 \n",
        "            train_KF.append(t4)\n",
        "            test_KF.append(t5)\n",
        "            \n",
        "            i += 1\n",
        "\n",
        "            #save mem\n",
        "            del mlp\n",
        "            del t1, t2, t3, t4, t5\n",
        "            gc.collect()\n",
        "          \n",
        "          #save mem\n",
        "          del new_xt, new_yt, new_xv, new_yv\n",
        "          gc.collect()\n",
        "        \n",
        "          #appen learning curve for each fold\n",
        "          train_epoch.append(train_KF)\n",
        "          test_epoch.append(test_KF)\n",
        "        \n",
        "        \n",
        "      \n",
        "    return final_acc, max_acc, max_epoch, train_epoch, test_epoch"
      ],
      "execution_count": 0,
      "outputs": []
    },
    {
      "metadata": {
        "id": "iT7EMnaDj8LK",
        "colab_type": "text"
      },
      "cell_type": "markdown",
      "source": [
        "K-Fold Cross Validation for Training With Set Hyperparam Values"
      ]
    },
    {
      "metadata": {
        "id": "eYmfUB58euOj",
        "colab_type": "code",
        "colab": {
          "autoexec": {
            "startup": false,
            "wait_interval": 0
          }
        }
      },
      "cell_type": "code",
      "source": [
        "def k_foldGPU_Test(x, y, act):\n",
        "  \n",
        "    \n",
        "    # divide into 5 folds\n",
        "    kf = KFold(n_splits=5, shuffle=True)\n",
        "    kf.get_n_splits(x)\n",
        "    \n",
        "    final_acc = np.zeros(5)\n",
        "    max_acc = np.zeros(5)\n",
        "    max_epoch = np.zeros(5)\n",
        "    \n",
        "    #set params\n",
        "    epoch_val=50\n",
        "    batch_val=500\n",
        "    lr_val=.000125\n",
        "    \n",
        "    train_epoch = []\n",
        "    test_epoch = []\n",
        "    \n",
        "    i = 0 \n",
        "\n",
        "    # for each fold, train and compute accuracy\n",
        "    for train_index, test_index in kf.split(x):\n",
        "      \n",
        "        new_xt, new_xv = x[train_index].astype(\"float\"), x[test_index].astype(\"float\")\n",
        "        new_yt, new_yv = y[train_index].astype(\"float\"), y[test_index].astype(\"float\")\n",
        "            \n",
        "        print(\"Training Fold \" + str(i))\n",
        "      \n",
        "        #node_vals = np.arange(.000025, .000275, .000025)\n",
        "        node_vals = 2000\n",
        "\n",
        "        #fit MLP to fold\n",
        "        mlp = MLP()\n",
        "        if act == \"relu\":\n",
        "          mlp.add_layer(nn.Linear(4096, node_vals))          \n",
        "          mlp.add_layer(nn.ReLU())          \n",
        "          mlp.add_layer(nn.Linear(node_vals, 10))\n",
        "        if act == \"sig\":\n",
        "          mlp.add_layer(nn.Linear(4096, node_vals))          \n",
        "          mlp.add_layer(nn.Sigmoid())          \n",
        "          mlp.add_layer(nn.Linear(node_vals, 10))\n",
        "        if act == \"tanh\":\n",
        "          mlp.add_layer(nn.Linear(4096, node_vals))          \n",
        "          mlp.add_layer(nn.Tanh())          \n",
        "          mlp.add_layer(nn.Linear(node_vals, 10))                      \n",
        "        mlp.float()\n",
        "        mlp.cuda()\n",
        "\n",
        "        t1, t2, t3, t4, t5 = fitGPU(mlp, new_xt, new_yt, new_xv, new_yv, epoch_val, batch=batch_val, lr=lr_val)\n",
        "        print(\"Epoch, Batch, LR: \" + str(epoch_val) + \" , \" + str(batch_val) + \" , \" + str(le_val))\n",
        "        print(\"Results for Node Count \" + str(node_vals))\n",
        "        print(\"Max Accuracy: \" + str(t1) + \" at epoch: \" + str(t2))\n",
        "        print(\"Final Accuracy: \" + str(t3))\n",
        "        final_acc[i] =t3 \n",
        "        max_acc[i] =t1 \n",
        "        max_epoch[i] =t2 \n",
        "        train_epoch.append(t4)\n",
        "        test_epoch.append(t5)\n",
        "        \n",
        "        i += 1\n",
        "\n",
        "        #save mem\n",
        "        del mlp\n",
        "        del t1, t2, t3, t4, t5 \n",
        "        del new_xt, new_yt, new_xv, new_yv\n",
        "        gc.collect()\n",
        "        \n",
        "      \n",
        "    return final_acc, max_acc, max_epoch, train_epoch, test_epoch"
      ],
      "execution_count": 0,
      "outputs": []
    },
    {
      "metadata": {
        "id": "y2CHcED8e1cc",
        "colab_type": "code",
        "colab": {
          "autoexec": {
            "startup": false,
            "wait_interval": 0
          }
        }
      },
      "cell_type": "code",
      "source": [
        "#need y as 0-9 not one hot\n",
        "x_tr = data[\"x_train\"].astype(\"float\")\n",
        "y_tr = data[\"y_train_og\"].astype(\"float\")\n",
        "x_tst = data[\"x_test\"].astype(\"float\")\n",
        "y_tst = data[\"y_test_og\"].astype(\"float\")"
      ],
      "execution_count": 0,
      "outputs": []
    },
    {
      "metadata": {
        "id": "bK7Qlq-1e9KV",
        "colab_type": "code",
        "colab": {
          "autoexec": {
            "startup": false,
            "wait_interval": 0
          },
          "output_extras": [
            {
              "item_id": 1
            }
          ],
          "base_uri": "https://localhost:8080/",
          "height": 35
        },
        "outputId": "a4f6dd80-0a36-4ec3-e4d5-4712f4867bbd",
        "executionInfo": {
          "status": "ok",
          "timestamp": 1521740263420,
          "user_tz": 240,
          "elapsed": 294,
          "user": {
            "displayName": "Hadrien Blampoix",
            "photoUrl": "https://lh3.googleusercontent.com/a/default-user=s128",
            "userId": "115013089116009170299"
          }
        }
      },
      "cell_type": "code",
      "source": [
        "#free up space, if mem loss during execution some vars may not be deleted on collab\n",
        "\n",
        "#del loss\n",
        "#el mlp\n",
        "#del x_in, y_in\n",
        "#del y_pred\n",
        "#del crit, optimizer\n",
        "#del X,Y\n",
        "gc.collect()"
      ],
      "execution_count": 68,
      "outputs": [
        {
          "output_type": "execute_result",
          "data": {
            "text/plain": [
              "3273"
            ]
          },
          "metadata": {
            "tags": []
          },
          "execution_count": 68
        }
      ]
    },
    {
      "metadata": {
        "id": "CskrwkvwfJ5l",
        "colab_type": "code",
        "colab": {
          "autoexec": {
            "startup": false,
            "wait_interval": 0
          }
        }
      },
      "cell_type": "code",
      "source": [
        "#to tune, set vals to test in k_foldGPU_Tune then run this\n",
        "r1, r2, r3, r4, r5 = k_foldGPU_Tune(x_tr, y_tr, \"relu\")"
      ],
      "execution_count": 0,
      "outputs": []
    },
    {
      "metadata": {
        "id": "kq3FobYvfPXe",
        "colab_type": "code",
        "colab": {
          "autoexec": {
            "startup": false,
            "wait_interval": 0
          }
        }
      },
      "cell_type": "code",
      "source": [
        "#calc mean b/w folds\n",
        "rfinacc = r1.mean(0)\n",
        "rmaxacc = r2.mean(0)\n",
        "rmaxep = r3.mean(0)\n",
        "rtrr = np.asarray(r4).mean(0)\n",
        "rtst = np.asarray(r5).mean(0)"
      ],
      "execution_count": 0,
      "outputs": []
    },
    {
      "metadata": {
        "id": "mmMM7OrofR6u",
        "colab_type": "code",
        "colab": {
          "autoexec": {
            "startup": false,
            "wait_interval": 0
          }
        }
      },
      "cell_type": "code",
      "source": [
        "#graphing\n",
        "\n",
        "xs = [i for i in range(6)]\n",
        "ys = [rfinacc[i] for i in range(6)]\n",
        "#ys1 = [sfinacc[i] for i in range(6)]\n",
        "#ys2 = [tfinacc[i] for i in range(5)]\n",
        "plt.plot(xs, ys, 'r-')\n",
        "#plt.plot(xs, ys1, 'b-')\n",
        "#plt.plot(xs, ys2, 'g-')\n",
        "plt.xlabel('Number of Nodes')\n",
        "plt.xticks(np.arange(10), ('100', '500', '1000', '2000', '3000', '5000'))\n",
        "plt.ylabel('Validation Accuracy')\n",
        "plt.title('Tuning Number of Nodes for ReLu Activation')\n",
        "plt.legend(['ReLu'])\n",
        "plt.show()"
      ],
      "execution_count": 0,
      "outputs": []
    },
    {
      "metadata": {
        "id": "0NEB5i6EfUPv",
        "colab_type": "code",
        "colab": {
          "autoexec": {
            "startup": false,
            "wait_interval": 0
          }
        }
      },
      "cell_type": "code",
      "source": [
        "xs = [i for i in range(40)]\n",
        "ys = [rtrr[i] for i in range(40)]\n",
        "ys1 = [rtst[i] for i in range(40)]\n",
        "#ys2 = [tfinacc[i] for i in range(5)]\n",
        "plt.plot(xs, ys, 'r-')\n",
        "plt.plot(xs, ys1, 'b-')\n",
        "#plt.plot(xs, ys2, 'g-')\n",
        "plt.xlabel('Epoch')\n",
        "#plt.xticks(np.arange(10), np.arange(.00005, .00055, .00005))\n",
        "plt.ylabel('Accuracy')\n",
        "plt.title('Learning Curve ReLu 4000 Nodes')\n",
        "plt.legend(['train', 'valid'])\n",
        "plt.show()"
      ],
      "execution_count": 0,
      "outputs": []
    },
    {
      "metadata": {
        "id": "hohEETLwfaEn",
        "colab_type": "code",
        "colab": {
          "autoexec": {
            "startup": false,
            "wait_interval": 0
          }
        }
      },
      "cell_type": "code",
      "source": [
        "#print result\n",
        "print(\"ReLu Tune Node: 5foldX, batch= 2000, epoch= 50, lr=.000125 \")\n",
        "print(\"Range: \\n\" + str([100,500,1000,2000,3000,5000]))\n",
        "print(\"Final Acc: \\n\" + str(rfinacc))\n",
        "print(\"Max Acc: \\n\" + str(rmaxacc))\n",
        "print(\"Corresponding epoch: \\n\" + str(rmaxep))\n",
        "print(\"train error over epoch for optimal Node Count \\n\" + str(rtrr[???]))\n",
        "print(\"test error over epoch for optimal Node Count \\n\" + str(rtst[???]))\n",
        "print(\"optimal Node Count: \\n .???\")"
      ],
      "execution_count": 0,
      "outputs": []
    },
    {
      "metadata": {
        "id": "D9zqahhZm8qf",
        "colab_type": "code",
        "colab": {
          "autoexec": {
            "startup": false,
            "wait_interval": 0
          },
          "output_extras": [
            {
              "item_id": 1
            }
          ],
          "base_uri": "https://localhost:8080/",
          "height": 35
        },
        "outputId": "1672ef69-7e6e-4ecd-fce2-b6e66159f7ed",
        "executionInfo": {
          "status": "ok",
          "timestamp": 1521740277111,
          "user_tz": 240,
          "elapsed": 222,
          "user": {
            "displayName": "Hadrien Blampoix",
            "photoUrl": "https://lh3.googleusercontent.com/a/default-user=s128",
            "userId": "115013089116009170299"
          }
        }
      },
      "cell_type": "code",
      "source": [
        "#del loss\n",
        "#del mlp\n",
        "#del x_in, y_in\n",
        "#del y_pred\n",
        "#del crit, optimizer\n",
        "#del X,Y\n",
        "gc.collect()"
      ],
      "execution_count": 69,
      "outputs": [
        {
          "output_type": "execute_result",
          "data": {
            "text/plain": [
              "0"
            ]
          },
          "metadata": {
            "tags": []
          },
          "execution_count": 69
        }
      ]
    },
    {
      "metadata": {
        "id": "EMKXMeMpmYQ4",
        "colab_type": "code",
        "colab": {
          "autoexec": {
            "startup": false,
            "wait_interval": 0
          },
          "output_extras": [
            {
              "item_id": 10
            }
          ],
          "base_uri": "https://localhost:8080/",
          "height": 197
        },
        "outputId": "9363180d-481f-4590-e541-e87e86a827f8",
        "executionInfo": {
          "status": "ok",
          "timestamp": 1521739863096,
          "user_tz": 240,
          "elapsed": 309314,
          "user": {
            "displayName": "Hadrien Blampoix",
            "photoUrl": "https://lh3.googleusercontent.com/a/default-user=s128",
            "userId": "115013089116009170299"
          }
        }
      },
      "cell_type": "code",
      "source": [
        "#to test acc on test set\n",
        "\n",
        "mlp = MLP()\n",
        "mlp.add_layer(nn.Linear(4096, 4000))          \n",
        "mlp.add_layer(nn.ReLU())          \n",
        "mlp.add_layer(nn.Linear(4000, 10))\n",
        "mlp.float()\n",
        "mlp.cuda()\n",
        "t1, t2, t3, t4, t5 = fitGPU(mlp, x_tr, y_tr, x_tst, y_tst, 50, batch=500, lr=.000125)\n",
        "\n"
      ],
      "execution_count": 56,
      "outputs": [
        {
          "output_type": "stream",
          "text": [
            "0\n",
            "5\n",
            "10\n",
            "15\n",
            "20\n",
            "25\n",
            "30\n",
            "35\n",
            "40\n",
            "45\n"
          ],
          "name": "stdout"
        }
      ]
    },
    {
      "metadata": {
        "id": "TCnG2sMfuEuN",
        "colab_type": "code",
        "colab": {
          "autoexec": {
            "startup": false,
            "wait_interval": 0
          },
          "output_extras": [
            {
              "item_id": 1
            }
          ],
          "base_uri": "https://localhost:8080/",
          "height": 295
        },
        "outputId": "8f26ebe5-bfed-4822-8efb-172b8be9fefe",
        "executionInfo": {
          "status": "ok",
          "timestamp": 1521741811922,
          "user_tz": 240,
          "elapsed": 379,
          "user": {
            "displayName": "Hadrien Blampoix",
            "photoUrl": "https://lh3.googleusercontent.com/a/default-user=s128",
            "userId": "115013089116009170299"
          }
        }
      },
      "cell_type": "code",
      "source": [
        "xs = [i for i in range(50)]\n",
        "ys = [t4[i] for i in range(50)]\n",
        "ys1 = [t5[i] for i in range(50)]\n",
        "#ys2 = [tfinacc[i] for i in range(5)]\n",
        "plt.plot(xs, ys, 'r-')\n",
        "plt.plot(xs, ys1, 'b-')\n",
        "#plt.plot(xs, ys2, 'g-')\n",
        "plt.xlabel('Epoch')\n",
        "#plt.xticks(np.arange(10), np.arange(.00005, .00055, .00005))\n",
        "plt.ylabel('Accuracy')\n",
        "plt.title('Learning Curve Single ReLu 4000 Nodes')\n",
        "plt.legend(['Train', 'Test'])\n",
        "plt.show()"
      ],
      "execution_count": 75,
      "outputs": [
        {
          "output_type": "display_data",
          "data": {
            "image/png": "[encoded data removed]",
            "text/plain": [
              "<matplotlib.figure.Figure at 0x7fd8303147f0>"
            ]
          },
          "metadata": {
            "tags": []
          }
        }
      ]
    },
    {
      "metadata": {
        "id": "UhDS21ggxjPs",
        "colab_type": "code",
        "colab": {
          "autoexec": {
            "startup": false,
            "wait_interval": 0
          },
          "output_extras": [
            {
              "item_id": 1
            }
          ],
          "base_uri": "https://localhost:8080/",
          "height": 395
        },
        "outputId": "312f0b77-6afd-498f-ac61-b22215e49fe2",
        "executionInfo": {
          "status": "ok",
          "timestamp": 1521740162041,
          "user_tz": 240,
          "elapsed": 299,
          "user": {
            "displayName": "Hadrien Blampoix",
            "photoUrl": "https://lh3.googleusercontent.com/a/default-user=s128",
            "userId": "115013089116009170299"
          }
        }
      },
      "cell_type": "code",
      "source": [
        "#print result\n",
        "print(\"ReLu Test Acc After 5foldX, batch= 500, epoch= 50, lr=.000125 \")\n",
        "#print(\"Range: \\n\" + str([100,500,1000,2000,3000,5000]))\n",
        "print(\"Final Acc: \\n\" + str(t3))\n",
        "print(\"Max Acc: \\n\" + str(t1) + \" at epoch: \" + str(t2))\n",
        "#print(\"Corresponding epoch: \\n\" + str())\n",
        "print(\"train error over epoch for optimal Node Count \\n\" + str(t4))\n",
        "print(\"test error over epoch for optimal Node Count \\n\" + str(t5))\n",
        "#print(\"optimal Node Count: \\n .???\")"
      ],
      "execution_count": 59,
      "outputs": [
        {
          "output_type": "stream",
          "text": [
            "ReLu Test Acc After 5foldX, batch= 500, epoch= 50, lr=.000125 \n",
            "Final Acc: \n",
            "0.3434\n",
            "Max Acc: \n",
            "0.3481 at epoch: 48\n",
            "train error over epoch for optimal Node Count \n",
            "[0.195825 0.221675 0.2393   0.264825 0.283675 0.308325 0.32345  0.340125\n",
            " 0.37155  0.393525 0.44455  0.472825 0.478375 0.515325 0.53935  0.554925\n",
            " 0.580375 0.60215  0.633525 0.651    0.6677   0.6703   0.7228   0.726525\n",
            " 0.74085  0.766725 0.771125 0.815175 0.8075   0.835775 0.84585  0.8723\n",
            " 0.875325 0.883175 0.891375 0.904475 0.908975 0.914275 0.905475 0.943225\n",
            " 0.94425  0.949675 0.942825 0.953775 0.968175 0.9729   0.975775 0.9834\n",
            " 0.980175 0.983925]\n",
            "test error over epoch for optimal Node Count \n",
            "[0.1736 0.1913 0.2    0.2136 0.2218 0.2298 0.2439 0.2343 0.2564 0.262\n",
            " 0.2793 0.2872 0.2827 0.3026 0.3002 0.3103 0.3081 0.309  0.3097 0.3196\n",
            " 0.3176 0.3262 0.3285 0.3277 0.3359 0.3336 0.3321 0.3379 0.3383 0.3356\n",
            " 0.3389 0.34   0.3379 0.3415 0.3434 0.3446 0.3461 0.3477 0.3359 0.3449\n",
            " 0.3387 0.34   0.3304 0.3358 0.3451 0.3459 0.334  0.3453 0.3481 0.3434]\n",
            "optimal Node Count: \n",
            " .???\n"
          ],
          "name": "stdout"
        }
      ]
    },
    {
      "metadata": {
        "id": "2xdJzEZ8yjBD",
        "colab_type": "code",
        "colab": {
          "autoexec": {
            "startup": false,
            "wait_interval": 0
          },
          "output_extras": [
            {
              "item_id": 20
            }
          ],
          "base_uri": "https://localhost:8080/",
          "height": 377
        },
        "outputId": "202bb98a-4db7-4c6c-a07c-93eaf625ecd1",
        "executionInfo": {
          "status": "ok",
          "timestamp": 1521740934960,
          "user_tz": 240,
          "elapsed": 618023,
          "user": {
            "displayName": "Hadrien Blampoix",
            "photoUrl": "https://lh3.googleusercontent.com/a/default-user=s128",
            "userId": "115013089116009170299"
          }
        }
      },
      "cell_type": "code",
      "source": [
        "mlp = MLP()\n",
        "mlp.add_layer(nn.Linear(4096, 4000))          \n",
        "mlp.add_layer(nn.ReLU())          \n",
        "mlp.add_layer(nn.Linear(4000, 10))\n",
        "mlp.float()\n",
        "mlp.cuda()\n",
        "tt1, tt2, tt3, tt4, tt5 = fitGPU(mlp, x_tr, y_tr, x_tst, y_tst, 100, batch=500, lr=.000125)"
      ],
      "execution_count": 70,
      "outputs": [
        {
          "output_type": "stream",
          "text": [
            "0\n",
            "5\n",
            "10\n",
            "15\n",
            "20\n",
            "25\n",
            "30\n",
            "35\n",
            "40\n",
            "45\n",
            "50\n",
            "55\n",
            "60\n",
            "65\n",
            "70\n",
            "75\n",
            "80\n",
            "85\n",
            "90\n",
            "95\n"
          ],
          "name": "stdout"
        }
      ]
    },
    {
      "metadata": {
        "id": "MNXCKPUIy8nb",
        "colab_type": "code",
        "colab": {
          "autoexec": {
            "startup": false,
            "wait_interval": 0
          },
          "output_extras": [
            {
              "item_id": 1
            }
          ],
          "base_uri": "https://localhost:8080/",
          "height": 295
        },
        "outputId": "2db8e918-97d3-4419-d406-ab193e152e2f",
        "executionInfo": {
          "status": "ok",
          "timestamp": 1521741087977,
          "user_tz": 240,
          "elapsed": 396,
          "user": {
            "displayName": "Hadrien Blampoix",
            "photoUrl": "https://lh3.googleusercontent.com/a/default-user=s128",
            "userId": "115013089116009170299"
          }
        }
      },
      "cell_type": "code",
      "source": [
        "xs = [i for i in range(100)]\n",
        "ys = [tt4[i] for i in range(100)]\n",
        "ys1 = [tt5[i] for i in range(100)]\n",
        "#ys2 = [tfinacc[i] for i in range(5)]\n",
        "plt.plot(xs, ys, 'r-')\n",
        "plt.plot(xs, ys1, 'b-')\n",
        "#plt.plot(xs, ys2, 'g-')\n",
        "plt.xlabel('Epoch')\n",
        "#plt.xticks(np.arange(10), np.arange(.00005, .00055, .00005))\n",
        "plt.ylabel('Accuracy')\n",
        "plt.title('Learning Curve Single ReLu 4000 Nodes,LR=.000125,Batch=500')\n",
        "plt.legend(['train', 'test'])\n",
        "plt.show()"
      ],
      "execution_count": 71,
      "outputs": [
        {
          "output_type": "display_data",
          "data": {
            "image/png": "[encoded data removed]",
            "text/plain": [
              "<matplotlib.figure.Figure at 0x7fd830303860>"
            ]
          },
          "metadata": {
            "tags": []
          }
        }
      ]
    },
    {
      "metadata": {
        "id": "53xy1MXGzmLV",
        "colab_type": "code",
        "colab": {
          "autoexec": {
            "startup": false,
            "wait_interval": 0
          },
          "output_extras": [
            {
              "item_id": 1
            }
          ],
          "base_uri": "https://localhost:8080/",
          "height": 557
        },
        "outputId": "c6aadb82-66e7-4d86-99a3-03a1b65bfe67",
        "executionInfo": {
          "status": "ok",
          "timestamp": 1521741143844,
          "user_tz": 240,
          "elapsed": 223,
          "user": {
            "displayName": "Hadrien Blampoix",
            "photoUrl": "https://lh3.googleusercontent.com/a/default-user=s128",
            "userId": "115013089116009170299"
          }
        }
      },
      "cell_type": "code",
      "source": [
        "#print result\n",
        "print(\"ReLu Test Acc After 5foldX, batch= 500, epoch= 100, lr=.000125 \")\n",
        "#print(\"Range: \\n\" + str([100,500,1000,2000,3000,5000]))\n",
        "print(\"Final Acc: \\n\" + str(tt3))\n",
        "print(\"Max Acc: \\n\" + str(tt1) + \" at epoch: \" + str(tt2))\n",
        "#print(\"Corresponding epoch: \\n\" + str())\n",
        "print(\"train error over epoch for optimal Node Count \\n\" + str(tt4))\n",
        "print(\"test error over epoch for optimal Node Count \\n\" + str(tt5))"
      ],
      "execution_count": 73,
      "outputs": [
        {
          "output_type": "stream",
          "text": [
            "ReLu Test Acc After 5foldX, batch= 500, epoch= 100, lr=.000125 \n",
            "Final Acc: \n",
            "0.3449\n",
            "Max Acc: \n",
            "0.3485 at epoch: 57\n",
            "train error over epoch for optimal Node Count \n",
            "[0.191875 0.21505  0.236175 0.2532   0.28165  0.296675 0.331925 0.352075\n",
            " 0.377925 0.3962   0.416025 0.4358   0.471975 0.499125 0.5268   0.5558\n",
            " 0.5807   0.6007   0.60935  0.606125 0.6698   0.68735  0.666975 0.70275\n",
            " 0.727975 0.752775 0.763625 0.791625 0.806825 0.8051   0.83     0.85235\n",
            " 0.862625 0.867    0.871125 0.898825 0.901325 0.91715  0.9303   0.9248\n",
            " 0.9366   0.950075 0.95315  0.958525 0.966375 0.968225 0.974075 0.975475\n",
            " 0.98405  0.982775 0.9859   0.988175 0.99     0.99205  0.9924   0.990975\n",
            " 0.996075 0.997775 0.995275 0.99895  0.998025 0.99865  0.999475 0.999725\n",
            " 0.999875 0.9998   0.999825 1.       0.999975 0.99995  1.       1.\n",
            " 1.       1.       1.       1.       1.       1.       1.       1.\n",
            " 1.       1.       1.       1.       1.       1.       1.       1.\n",
            " 1.       1.       1.       1.       1.       1.       1.       1.\n",
            " 1.       1.       1.       1.      ]\n",
            "test error over epoch for optimal Node Count \n",
            "[0.1744 0.1845 0.205  0.2106 0.2208 0.2254 0.2434 0.2482 0.2573 0.2616\n",
            " 0.2649 0.273  0.2812 0.2983 0.2892 0.3046 0.3005 0.3048 0.3065 0.306\n",
            " 0.321  0.326  0.3127 0.3292 0.3212 0.3239 0.3314 0.3344 0.3337 0.3285\n",
            " 0.3335 0.3327 0.3349 0.3406 0.3389 0.3371 0.3348 0.3403 0.3385 0.33\n",
            " 0.3354 0.339  0.3425 0.3373 0.3398 0.3449 0.3409 0.3325 0.3414 0.3471\n",
            " 0.3426 0.3389 0.3414 0.3427 0.3414 0.3425 0.3455 0.3485 0.3413 0.3446\n",
            " 0.3421 0.3451 0.3413 0.3396 0.3442 0.3425 0.3412 0.3442 0.3401 0.3418\n",
            " 0.3382 0.3422 0.3461 0.3369 0.3427 0.3419 0.3429 0.3445 0.3435 0.3425\n",
            " 0.3474 0.3457 0.3435 0.3432 0.343  0.3433 0.3463 0.3415 0.3446 0.3454\n",
            " 0.3472 0.3436 0.3451 0.3458 0.3416 0.3438 0.3445 0.3442 0.3465 0.3449]\n"
          ],
          "name": "stdout"
        }
      ]
    }
  ]
}